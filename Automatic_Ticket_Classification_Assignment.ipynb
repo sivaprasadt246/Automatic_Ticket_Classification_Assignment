{
  "cells": [
    {
      "cell_type": "markdown",
      "metadata": {
        "id": "view-in-github",
        "colab_type": "text"
      },
      "source": [
        "<a href=\"https://colab.research.google.com/github/sivaprasadt246/Automatic_Ticket_Classification_Assignment/blob/main/Automatic_Ticket_Classification_Assignment.ipynb\" target=\"_parent\"><img src=\"https://colab.research.google.com/assets/colab-badge.svg\" alt=\"Open In Colab\"/></a>"
      ]
    },
    {
      "cell_type": "markdown",
      "metadata": {
        "id": "rhR-ZUkwJrFn"
      },
      "source": [
        "## Problem Statement \n",
        "\n",
        "You need to build a model that is able to classify customer complaints based on the products/services. By doing so, you can segregate these tickets into their relevant categories and, therefore, help in the quick resolution of the issue.\n",
        "\n",
        "You will be doing topic modelling on the <b>.json</b> data provided by the company. Since this data is not labelled, you need to apply NMF to analyse patterns and classify tickets into the following five clusters based on their products/services:\n",
        "\n",
        "* Credit card / Prepaid card\n",
        "\n",
        "* Bank account services\n",
        "\n",
        "* Theft/Dispute reporting\n",
        "\n",
        "* Mortgages/loans\n",
        "\n",
        "* Others \n",
        "\n",
        "\n",
        "With the help of topic modelling, you will be able to map each ticket onto its respective department/category. You can then use this data to train any supervised model such as logistic regression, decision tree or random forest. Using this trained model, you can classify any new customer complaint support ticket into its relevant department."
      ]
    },
    {
      "cell_type": "markdown",
      "metadata": {
        "id": "mcgXVNyaLUFS"
      },
      "source": [
        "## Pipelines that needs to be performed:\n",
        "\n",
        "You need to perform the following eight major tasks to complete the assignment:\n",
        "\n",
        "1.  Data loading\n",
        "\n",
        "2. Text preprocessing\n",
        "\n",
        "3. Exploratory data analysis (EDA)\n",
        "\n",
        "4. Feature extraction\n",
        "\n",
        "5. Topic modelling \n",
        "\n",
        "6. Model building using supervised learning\n",
        "\n",
        "7. Model training and evaluation\n",
        "\n",
        "8. Model inference"
      ]
    },
    {
      "cell_type": "markdown",
      "metadata": {
        "id": "JuLFIymAL58u"
      },
      "source": [
        "## Importing the necessary libraries"
      ]
    },
    {
      "cell_type": "code",
      "execution_count": 1,
      "metadata": {
        "id": "O-Q9pqrcJrFr",
        "colab": {
          "base_uri": "https://localhost:8080/"
        },
        "outputId": "f2316587-751c-432e-e3f4-6f29509d06e7"
      },
      "outputs": [
        {
          "output_type": "stream",
          "name": "stdout",
          "text": [
            "Looking in indexes: https://pypi.org/simple, https://us-python.pkg.dev/colab-wheels/public/simple/\n",
            "Requirement already satisfied: plotly in /usr/local/lib/python3.8/dist-packages (5.5.0)\n",
            "Requirement already satisfied: tenacity>=6.2.0 in /usr/local/lib/python3.8/dist-packages (from plotly) (8.1.0)\n",
            "Requirement already satisfied: six in /usr/local/lib/python3.8/dist-packages (from plotly) (1.15.0)\n"
          ]
        }
      ],
      "source": [
        "!pip install plotly"
      ]
    },
    {
      "cell_type": "code",
      "execution_count": 2,
      "metadata": {
        "id": "LyzjptAM-v5b"
      },
      "outputs": [],
      "source": [
        "import json \n",
        "import numpy as np\n",
        "import pandas as pd\n",
        "import re, nltk, spacy, string\n",
        "import seaborn as sns\n",
        "import matplotlib.pyplot as plt\n",
        "%matplotlib inline\n",
        "\n",
        "from plotly.offline import plot\n",
        "import plotly.graph_objects as go\n",
        "import plotly.express as px\n",
        "\n",
        "from sklearn.feature_extraction.text import CountVectorizer, TfidfVectorizer\n",
        "from pprint import pprint"
      ]
    },
    {
      "cell_type": "code",
      "execution_count": 3,
      "metadata": {
        "id": "R53e4Wpl-v5c"
      },
      "outputs": [],
      "source": [
        "import en_core_web_sm\n",
        "nlp = en_core_web_sm.load()"
      ]
    },
    {
      "cell_type": "markdown",
      "metadata": {
        "id": "KtRLCsNVJrFt"
      },
      "source": [
        "## Loading the data\n",
        "\n",
        "The data is in JSON format and we need to convert it to a dataframe."
      ]
    },
    {
      "cell_type": "code",
      "execution_count": 4,
      "metadata": {
        "id": "puVzIf_iJrFt",
        "colab": {
          "base_uri": "https://localhost:8080/"
        },
        "outputId": "2aa2a9ea-5c81-4c74-b433-ebcd6f2572cb"
      },
      "outputs": [
        {
          "output_type": "stream",
          "name": "stdout",
          "text": [
            "Drive already mounted at /content/gdrive; to attempt to forcibly remount, call drive.mount(\"/content/gdrive\", force_remount=True).\n"
          ]
        }
      ],
      "source": [
        "## If you are using the data by mounting the google drive, use the following :\n",
        "from google.colab import drive\n",
        "drive.mount('/content/gdrive')\n",
        "\n",
        "# Opening JSON file \n",
        "root_path = \"/content/gdrive/MyDrive/NLP_Assignment/complaints-2021-05-14_08_16.json\"\n",
        "#root_path = 'complaints-2021-05-14_08_16.json'\n",
        "f = open(root_path)\n",
        "  \n",
        "# returns JSON object as  \n",
        "# a dictionary \n",
        "data = json.load(f)\n",
        "df=pd.json_normalize(data)"
      ]
    },
    {
      "cell_type": "markdown",
      "metadata": {
        "id": "_xYpH-sAJrFu"
      },
      "source": [
        "## Data preparation"
      ]
    },
    {
      "cell_type": "code",
      "execution_count": 5,
      "metadata": {
        "id": "Lf8ufHH5JrFu",
        "outputId": "65d9f036-1284-45b4-e1c7-a6a9dc39a837",
        "colab": {
          "base_uri": "https://localhost:8080/",
          "height": 717
        }
      },
      "outputs": [
        {
          "output_type": "execute_result",
          "data": {
            "text/plain": [
              "                _index      _type      _id  _score    _source.tags  \\\n",
              "0  complaint-public-v2  complaint  3211475     0.0            None   \n",
              "1  complaint-public-v2  complaint  3229299     0.0   Servicemember   \n",
              "2  complaint-public-v2  complaint  3199379     0.0            None   \n",
              "3  complaint-public-v2  complaint  2673060     0.0            None   \n",
              "4  complaint-public-v2  complaint  3203545     0.0            None   \n",
              "5  complaint-public-v2  complaint  3275312     0.0  Older American   \n",
              "6  complaint-public-v2  complaint  3238804     0.0            None   \n",
              "7  complaint-public-v2  complaint  3249272     0.0            None   \n",
              "8  complaint-public-v2  complaint  3351653     0.0            None   \n",
              "9  complaint-public-v2  complaint  3273612     0.0            None   \n",
              "\n",
              "  _source.zip_code _source.complaint_id                       _source.issue  \\\n",
              "0            90301              3211475   Attempts to collect debt not owed   \n",
              "1            319XX              3229299     Written notification about debt   \n",
              "2            77069              3199379  Other features, terms, or problems   \n",
              "3            48066              2673060      Trouble during payment process   \n",
              "4            10473              3203545                    Fees or interest   \n",
              "5            48227              3275312                 Managing an account   \n",
              "6            76262              3238804                 Managing an account   \n",
              "7            07753              3249272      Trouble during payment process   \n",
              "8            60621              3351653                  Closing an account   \n",
              "9            99354              3273612                 Managing an account   \n",
              "\n",
              "       _source.date_received _source.state  ...     _source.company_response  \\\n",
              "0  2019-04-13T12:00:00-05:00            CA  ...      Closed with explanation   \n",
              "1  2019-05-01T12:00:00-05:00            GA  ...      Closed with explanation   \n",
              "2  2019-04-02T12:00:00-05:00            TX  ...      Closed with explanation   \n",
              "3  2017-09-13T12:00:00-05:00            MI  ...      Closed with explanation   \n",
              "4  2019-04-05T12:00:00-05:00            NY  ...      Closed with explanation   \n",
              "5  2019-06-13T12:00:00-05:00            MI  ...  Closed with monetary relief   \n",
              "6  2019-05-10T12:00:00-05:00            TX  ...  Closed with monetary relief   \n",
              "7  2019-05-15T12:00:00-05:00            NJ  ...      Closed with explanation   \n",
              "8  2019-08-22T12:00:00-05:00            IL  ...      Closed with explanation   \n",
              "9  2019-06-11T12:00:00-05:00            WA  ...  Closed with monetary relief   \n",
              "\n",
              "        _source.company _source.submitted_via _source.date_sent_to_company  \\\n",
              "0  JPMORGAN CHASE & CO.                   Web    2019-04-13T12:00:00-05:00   \n",
              "1  JPMORGAN CHASE & CO.                   Web    2019-05-01T12:00:00-05:00   \n",
              "2  JPMORGAN CHASE & CO.                   Web    2019-04-02T12:00:00-05:00   \n",
              "3  JPMORGAN CHASE & CO.                   Web    2017-09-14T12:00:00-05:00   \n",
              "4  JPMORGAN CHASE & CO.              Referral    2019-04-05T12:00:00-05:00   \n",
              "5  JPMORGAN CHASE & CO.              Referral    2019-06-14T12:00:00-05:00   \n",
              "6  JPMORGAN CHASE & CO.                 Phone    2019-05-10T12:00:00-05:00   \n",
              "7  JPMORGAN CHASE & CO.              Referral    2019-05-21T12:00:00-05:00   \n",
              "8  JPMORGAN CHASE & CO.              Referral    2019-08-23T12:00:00-05:00   \n",
              "9  JPMORGAN CHASE & CO.              Referral    2019-06-17T12:00:00-05:00   \n",
              "\n",
              "  _source.company_public_response                         _source.sub_product  \\\n",
              "0                            None                            Credit card debt   \n",
              "1                            None                            Credit card debt   \n",
              "2                            None  General-purpose credit card or charge card   \n",
              "3                            None                  Conventional home mortgage   \n",
              "4                            None  General-purpose credit card or charge card   \n",
              "5                            None                            Checking account   \n",
              "6                            None                            Checking account   \n",
              "7                            None                  Conventional home mortgage   \n",
              "8                            None                            Checking account   \n",
              "9                            None                            Checking account   \n",
              "\n",
              "  _source.timely                    _source.complaint_what_happened  \\\n",
              "0            Yes                                                      \n",
              "1            Yes  Good morning my name is XXXX XXXX and I apprec...   \n",
              "2            Yes  I upgraded my XXXX XXXX card in XX/XX/2018 and...   \n",
              "3            Yes                                                      \n",
              "4            Yes                                                      \n",
              "5            Yes                                                      \n",
              "6            Yes                                                      \n",
              "7            Yes                                                      \n",
              "8            Yes                                                      \n",
              "9            Yes                                                      \n",
              "\n",
              "                                  _source.sub_issue  \\\n",
              "0                                 Debt is not yours   \n",
              "1  Didn't receive enough information to verify debt   \n",
              "2             Problem with rewards from credit card   \n",
              "3                                              None   \n",
              "4                         Charged too much interest   \n",
              "5                 Problem using a debit or ATM card   \n",
              "6                 Problem using a debit or ATM card   \n",
              "7                                              None   \n",
              "8                       Company closed your account   \n",
              "9                                   Cashing a check   \n",
              "\n",
              "  _source.consumer_consent_provided  \n",
              "0              Consent not provided  \n",
              "1                  Consent provided  \n",
              "2                  Consent provided  \n",
              "3              Consent not provided  \n",
              "4                               N/A  \n",
              "5                               N/A  \n",
              "6                               N/A  \n",
              "7                               N/A  \n",
              "8                               N/A  \n",
              "9                               N/A  \n",
              "\n",
              "[10 rows x 22 columns]"
            ],
            "text/html": [
              "\n",
              "  <div id=\"df-a74aed4d-0ed6-4819-b020-8cfa1e8ba5f8\">\n",
              "    <div class=\"colab-df-container\">\n",
              "      <div>\n",
              "<style scoped>\n",
              "    .dataframe tbody tr th:only-of-type {\n",
              "        vertical-align: middle;\n",
              "    }\n",
              "\n",
              "    .dataframe tbody tr th {\n",
              "        vertical-align: top;\n",
              "    }\n",
              "\n",
              "    .dataframe thead th {\n",
              "        text-align: right;\n",
              "    }\n",
              "</style>\n",
              "<table border=\"1\" class=\"dataframe\">\n",
              "  <thead>\n",
              "    <tr style=\"text-align: right;\">\n",
              "      <th></th>\n",
              "      <th>_index</th>\n",
              "      <th>_type</th>\n",
              "      <th>_id</th>\n",
              "      <th>_score</th>\n",
              "      <th>_source.tags</th>\n",
              "      <th>_source.zip_code</th>\n",
              "      <th>_source.complaint_id</th>\n",
              "      <th>_source.issue</th>\n",
              "      <th>_source.date_received</th>\n",
              "      <th>_source.state</th>\n",
              "      <th>...</th>\n",
              "      <th>_source.company_response</th>\n",
              "      <th>_source.company</th>\n",
              "      <th>_source.submitted_via</th>\n",
              "      <th>_source.date_sent_to_company</th>\n",
              "      <th>_source.company_public_response</th>\n",
              "      <th>_source.sub_product</th>\n",
              "      <th>_source.timely</th>\n",
              "      <th>_source.complaint_what_happened</th>\n",
              "      <th>_source.sub_issue</th>\n",
              "      <th>_source.consumer_consent_provided</th>\n",
              "    </tr>\n",
              "  </thead>\n",
              "  <tbody>\n",
              "    <tr>\n",
              "      <th>0</th>\n",
              "      <td>complaint-public-v2</td>\n",
              "      <td>complaint</td>\n",
              "      <td>3211475</td>\n",
              "      <td>0.0</td>\n",
              "      <td>None</td>\n",
              "      <td>90301</td>\n",
              "      <td>3211475</td>\n",
              "      <td>Attempts to collect debt not owed</td>\n",
              "      <td>2019-04-13T12:00:00-05:00</td>\n",
              "      <td>CA</td>\n",
              "      <td>...</td>\n",
              "      <td>Closed with explanation</td>\n",
              "      <td>JPMORGAN CHASE &amp; CO.</td>\n",
              "      <td>Web</td>\n",
              "      <td>2019-04-13T12:00:00-05:00</td>\n",
              "      <td>None</td>\n",
              "      <td>Credit card debt</td>\n",
              "      <td>Yes</td>\n",
              "      <td></td>\n",
              "      <td>Debt is not yours</td>\n",
              "      <td>Consent not provided</td>\n",
              "    </tr>\n",
              "    <tr>\n",
              "      <th>1</th>\n",
              "      <td>complaint-public-v2</td>\n",
              "      <td>complaint</td>\n",
              "      <td>3229299</td>\n",
              "      <td>0.0</td>\n",
              "      <td>Servicemember</td>\n",
              "      <td>319XX</td>\n",
              "      <td>3229299</td>\n",
              "      <td>Written notification about debt</td>\n",
              "      <td>2019-05-01T12:00:00-05:00</td>\n",
              "      <td>GA</td>\n",
              "      <td>...</td>\n",
              "      <td>Closed with explanation</td>\n",
              "      <td>JPMORGAN CHASE &amp; CO.</td>\n",
              "      <td>Web</td>\n",
              "      <td>2019-05-01T12:00:00-05:00</td>\n",
              "      <td>None</td>\n",
              "      <td>Credit card debt</td>\n",
              "      <td>Yes</td>\n",
              "      <td>Good morning my name is XXXX XXXX and I apprec...</td>\n",
              "      <td>Didn't receive enough information to verify debt</td>\n",
              "      <td>Consent provided</td>\n",
              "    </tr>\n",
              "    <tr>\n",
              "      <th>2</th>\n",
              "      <td>complaint-public-v2</td>\n",
              "      <td>complaint</td>\n",
              "      <td>3199379</td>\n",
              "      <td>0.0</td>\n",
              "      <td>None</td>\n",
              "      <td>77069</td>\n",
              "      <td>3199379</td>\n",
              "      <td>Other features, terms, or problems</td>\n",
              "      <td>2019-04-02T12:00:00-05:00</td>\n",
              "      <td>TX</td>\n",
              "      <td>...</td>\n",
              "      <td>Closed with explanation</td>\n",
              "      <td>JPMORGAN CHASE &amp; CO.</td>\n",
              "      <td>Web</td>\n",
              "      <td>2019-04-02T12:00:00-05:00</td>\n",
              "      <td>None</td>\n",
              "      <td>General-purpose credit card or charge card</td>\n",
              "      <td>Yes</td>\n",
              "      <td>I upgraded my XXXX XXXX card in XX/XX/2018 and...</td>\n",
              "      <td>Problem with rewards from credit card</td>\n",
              "      <td>Consent provided</td>\n",
              "    </tr>\n",
              "    <tr>\n",
              "      <th>3</th>\n",
              "      <td>complaint-public-v2</td>\n",
              "      <td>complaint</td>\n",
              "      <td>2673060</td>\n",
              "      <td>0.0</td>\n",
              "      <td>None</td>\n",
              "      <td>48066</td>\n",
              "      <td>2673060</td>\n",
              "      <td>Trouble during payment process</td>\n",
              "      <td>2017-09-13T12:00:00-05:00</td>\n",
              "      <td>MI</td>\n",
              "      <td>...</td>\n",
              "      <td>Closed with explanation</td>\n",
              "      <td>JPMORGAN CHASE &amp; CO.</td>\n",
              "      <td>Web</td>\n",
              "      <td>2017-09-14T12:00:00-05:00</td>\n",
              "      <td>None</td>\n",
              "      <td>Conventional home mortgage</td>\n",
              "      <td>Yes</td>\n",
              "      <td></td>\n",
              "      <td>None</td>\n",
              "      <td>Consent not provided</td>\n",
              "    </tr>\n",
              "    <tr>\n",
              "      <th>4</th>\n",
              "      <td>complaint-public-v2</td>\n",
              "      <td>complaint</td>\n",
              "      <td>3203545</td>\n",
              "      <td>0.0</td>\n",
              "      <td>None</td>\n",
              "      <td>10473</td>\n",
              "      <td>3203545</td>\n",
              "      <td>Fees or interest</td>\n",
              "      <td>2019-04-05T12:00:00-05:00</td>\n",
              "      <td>NY</td>\n",
              "      <td>...</td>\n",
              "      <td>Closed with explanation</td>\n",
              "      <td>JPMORGAN CHASE &amp; CO.</td>\n",
              "      <td>Referral</td>\n",
              "      <td>2019-04-05T12:00:00-05:00</td>\n",
              "      <td>None</td>\n",
              "      <td>General-purpose credit card or charge card</td>\n",
              "      <td>Yes</td>\n",
              "      <td></td>\n",
              "      <td>Charged too much interest</td>\n",
              "      <td>N/A</td>\n",
              "    </tr>\n",
              "    <tr>\n",
              "      <th>5</th>\n",
              "      <td>complaint-public-v2</td>\n",
              "      <td>complaint</td>\n",
              "      <td>3275312</td>\n",
              "      <td>0.0</td>\n",
              "      <td>Older American</td>\n",
              "      <td>48227</td>\n",
              "      <td>3275312</td>\n",
              "      <td>Managing an account</td>\n",
              "      <td>2019-06-13T12:00:00-05:00</td>\n",
              "      <td>MI</td>\n",
              "      <td>...</td>\n",
              "      <td>Closed with monetary relief</td>\n",
              "      <td>JPMORGAN CHASE &amp; CO.</td>\n",
              "      <td>Referral</td>\n",
              "      <td>2019-06-14T12:00:00-05:00</td>\n",
              "      <td>None</td>\n",
              "      <td>Checking account</td>\n",
              "      <td>Yes</td>\n",
              "      <td></td>\n",
              "      <td>Problem using a debit or ATM card</td>\n",
              "      <td>N/A</td>\n",
              "    </tr>\n",
              "    <tr>\n",
              "      <th>6</th>\n",
              "      <td>complaint-public-v2</td>\n",
              "      <td>complaint</td>\n",
              "      <td>3238804</td>\n",
              "      <td>0.0</td>\n",
              "      <td>None</td>\n",
              "      <td>76262</td>\n",
              "      <td>3238804</td>\n",
              "      <td>Managing an account</td>\n",
              "      <td>2019-05-10T12:00:00-05:00</td>\n",
              "      <td>TX</td>\n",
              "      <td>...</td>\n",
              "      <td>Closed with monetary relief</td>\n",
              "      <td>JPMORGAN CHASE &amp; CO.</td>\n",
              "      <td>Phone</td>\n",
              "      <td>2019-05-10T12:00:00-05:00</td>\n",
              "      <td>None</td>\n",
              "      <td>Checking account</td>\n",
              "      <td>Yes</td>\n",
              "      <td></td>\n",
              "      <td>Problem using a debit or ATM card</td>\n",
              "      <td>N/A</td>\n",
              "    </tr>\n",
              "    <tr>\n",
              "      <th>7</th>\n",
              "      <td>complaint-public-v2</td>\n",
              "      <td>complaint</td>\n",
              "      <td>3249272</td>\n",
              "      <td>0.0</td>\n",
              "      <td>None</td>\n",
              "      <td>07753</td>\n",
              "      <td>3249272</td>\n",
              "      <td>Trouble during payment process</td>\n",
              "      <td>2019-05-15T12:00:00-05:00</td>\n",
              "      <td>NJ</td>\n",
              "      <td>...</td>\n",
              "      <td>Closed with explanation</td>\n",
              "      <td>JPMORGAN CHASE &amp; CO.</td>\n",
              "      <td>Referral</td>\n",
              "      <td>2019-05-21T12:00:00-05:00</td>\n",
              "      <td>None</td>\n",
              "      <td>Conventional home mortgage</td>\n",
              "      <td>Yes</td>\n",
              "      <td></td>\n",
              "      <td>None</td>\n",
              "      <td>N/A</td>\n",
              "    </tr>\n",
              "    <tr>\n",
              "      <th>8</th>\n",
              "      <td>complaint-public-v2</td>\n",
              "      <td>complaint</td>\n",
              "      <td>3351653</td>\n",
              "      <td>0.0</td>\n",
              "      <td>None</td>\n",
              "      <td>60621</td>\n",
              "      <td>3351653</td>\n",
              "      <td>Closing an account</td>\n",
              "      <td>2019-08-22T12:00:00-05:00</td>\n",
              "      <td>IL</td>\n",
              "      <td>...</td>\n",
              "      <td>Closed with explanation</td>\n",
              "      <td>JPMORGAN CHASE &amp; CO.</td>\n",
              "      <td>Referral</td>\n",
              "      <td>2019-08-23T12:00:00-05:00</td>\n",
              "      <td>None</td>\n",
              "      <td>Checking account</td>\n",
              "      <td>Yes</td>\n",
              "      <td></td>\n",
              "      <td>Company closed your account</td>\n",
              "      <td>N/A</td>\n",
              "    </tr>\n",
              "    <tr>\n",
              "      <th>9</th>\n",
              "      <td>complaint-public-v2</td>\n",
              "      <td>complaint</td>\n",
              "      <td>3273612</td>\n",
              "      <td>0.0</td>\n",
              "      <td>None</td>\n",
              "      <td>99354</td>\n",
              "      <td>3273612</td>\n",
              "      <td>Managing an account</td>\n",
              "      <td>2019-06-11T12:00:00-05:00</td>\n",
              "      <td>WA</td>\n",
              "      <td>...</td>\n",
              "      <td>Closed with monetary relief</td>\n",
              "      <td>JPMORGAN CHASE &amp; CO.</td>\n",
              "      <td>Referral</td>\n",
              "      <td>2019-06-17T12:00:00-05:00</td>\n",
              "      <td>None</td>\n",
              "      <td>Checking account</td>\n",
              "      <td>Yes</td>\n",
              "      <td></td>\n",
              "      <td>Cashing a check</td>\n",
              "      <td>N/A</td>\n",
              "    </tr>\n",
              "  </tbody>\n",
              "</table>\n",
              "<p>10 rows × 22 columns</p>\n",
              "</div>\n",
              "      <button class=\"colab-df-convert\" onclick=\"convertToInteractive('df-a74aed4d-0ed6-4819-b020-8cfa1e8ba5f8')\"\n",
              "              title=\"Convert this dataframe to an interactive table.\"\n",
              "              style=\"display:none;\">\n",
              "        \n",
              "  <svg xmlns=\"http://www.w3.org/2000/svg\" height=\"24px\"viewBox=\"0 0 24 24\"\n",
              "       width=\"24px\">\n",
              "    <path d=\"M0 0h24v24H0V0z\" fill=\"none\"/>\n",
              "    <path d=\"M18.56 5.44l.94 2.06.94-2.06 2.06-.94-2.06-.94-.94-2.06-.94 2.06-2.06.94zm-11 1L8.5 8.5l.94-2.06 2.06-.94-2.06-.94L8.5 2.5l-.94 2.06-2.06.94zm10 10l.94 2.06.94-2.06 2.06-.94-2.06-.94-.94-2.06-.94 2.06-2.06.94z\"/><path d=\"M17.41 7.96l-1.37-1.37c-.4-.4-.92-.59-1.43-.59-.52 0-1.04.2-1.43.59L10.3 9.45l-7.72 7.72c-.78.78-.78 2.05 0 2.83L4 21.41c.39.39.9.59 1.41.59.51 0 1.02-.2 1.41-.59l7.78-7.78 2.81-2.81c.8-.78.8-2.07 0-2.86zM5.41 20L4 18.59l7.72-7.72 1.47 1.35L5.41 20z\"/>\n",
              "  </svg>\n",
              "      </button>\n",
              "      \n",
              "  <style>\n",
              "    .colab-df-container {\n",
              "      display:flex;\n",
              "      flex-wrap:wrap;\n",
              "      gap: 12px;\n",
              "    }\n",
              "\n",
              "    .colab-df-convert {\n",
              "      background-color: #E8F0FE;\n",
              "      border: none;\n",
              "      border-radius: 50%;\n",
              "      cursor: pointer;\n",
              "      display: none;\n",
              "      fill: #1967D2;\n",
              "      height: 32px;\n",
              "      padding: 0 0 0 0;\n",
              "      width: 32px;\n",
              "    }\n",
              "\n",
              "    .colab-df-convert:hover {\n",
              "      background-color: #E2EBFA;\n",
              "      box-shadow: 0px 1px 2px rgba(60, 64, 67, 0.3), 0px 1px 3px 1px rgba(60, 64, 67, 0.15);\n",
              "      fill: #174EA6;\n",
              "    }\n",
              "\n",
              "    [theme=dark] .colab-df-convert {\n",
              "      background-color: #3B4455;\n",
              "      fill: #D2E3FC;\n",
              "    }\n",
              "\n",
              "    [theme=dark] .colab-df-convert:hover {\n",
              "      background-color: #434B5C;\n",
              "      box-shadow: 0px 1px 3px 1px rgba(0, 0, 0, 0.15);\n",
              "      filter: drop-shadow(0px 1px 2px rgba(0, 0, 0, 0.3));\n",
              "      fill: #FFFFFF;\n",
              "    }\n",
              "  </style>\n",
              "\n",
              "      <script>\n",
              "        const buttonEl =\n",
              "          document.querySelector('#df-a74aed4d-0ed6-4819-b020-8cfa1e8ba5f8 button.colab-df-convert');\n",
              "        buttonEl.style.display =\n",
              "          google.colab.kernel.accessAllowed ? 'block' : 'none';\n",
              "\n",
              "        async function convertToInteractive(key) {\n",
              "          const element = document.querySelector('#df-a74aed4d-0ed6-4819-b020-8cfa1e8ba5f8');\n",
              "          const dataTable =\n",
              "            await google.colab.kernel.invokeFunction('convertToInteractive',\n",
              "                                                     [key], {});\n",
              "          if (!dataTable) return;\n",
              "\n",
              "          const docLinkHtml = 'Like what you see? Visit the ' +\n",
              "            '<a target=\"_blank\" href=https://colab.research.google.com/notebooks/data_table.ipynb>data table notebook</a>'\n",
              "            + ' to learn more about interactive tables.';\n",
              "          element.innerHTML = '';\n",
              "          dataTable['output_type'] = 'display_data';\n",
              "          await google.colab.output.renderOutput(dataTable, element);\n",
              "          const docLink = document.createElement('div');\n",
              "          docLink.innerHTML = docLinkHtml;\n",
              "          element.appendChild(docLink);\n",
              "        }\n",
              "      </script>\n",
              "    </div>\n",
              "  </div>\n",
              "  "
            ]
          },
          "metadata": {},
          "execution_count": 5
        }
      ],
      "source": [
        "# Inspect the dataframe to understand the given data.\n",
        "df.head(10)"
      ]
    },
    {
      "cell_type": "code",
      "execution_count": 6,
      "metadata": {
        "id": "Dwcty-wmJrFw",
        "outputId": "5a6f6cff-315a-400c-a322-6f4fceffd01f",
        "colab": {
          "base_uri": "https://localhost:8080/"
        }
      },
      "outputs": [
        {
          "output_type": "execute_result",
          "data": {
            "text/plain": [
              "Index(['_index', '_type', '_id', '_score', '_source.tags', '_source.zip_code',\n",
              "       '_source.complaint_id', '_source.issue', '_source.date_received',\n",
              "       '_source.state', '_source.consumer_disputed', '_source.product',\n",
              "       '_source.company_response', '_source.company', '_source.submitted_via',\n",
              "       '_source.date_sent_to_company', '_source.company_public_response',\n",
              "       '_source.sub_product', '_source.timely',\n",
              "       '_source.complaint_what_happened', '_source.sub_issue',\n",
              "       '_source.consumer_consent_provided'],\n",
              "      dtype='object')"
            ]
          },
          "metadata": {},
          "execution_count": 6
        }
      ],
      "source": [
        "#print the column names\n",
        "df.columns"
      ]
    },
    {
      "cell_type": "code",
      "execution_count": 7,
      "metadata": {
        "id": "FYCtKXD1JrFw",
        "outputId": "9ce152d6-e89c-4f95-fa20-d7af3ebef410",
        "colab": {
          "base_uri": "https://localhost:8080/",
          "height": 206
        }
      },
      "outputs": [
        {
          "output_type": "execute_result",
          "data": {
            "text/plain": [
              "                                      complaint_text  \\\n",
              "0                                                      \n",
              "1  Good morning my name is XXXX XXXX and I apprec...   \n",
              "2  I upgraded my XXXX XXXX card in XX/XX/2018 and...   \n",
              "3                                                      \n",
              "4                                                      \n",
              "\n",
              "                      category                                sub_category  \n",
              "0              Debt collection                            Credit card debt  \n",
              "1              Debt collection                            Credit card debt  \n",
              "2  Credit card or prepaid card  General-purpose credit card or charge card  \n",
              "3                     Mortgage                  Conventional home mortgage  \n",
              "4  Credit card or prepaid card  General-purpose credit card or charge card  "
            ],
            "text/html": [
              "\n",
              "  <div id=\"df-4ad0e374-2313-4e4d-a4f7-db3d2d281701\">\n",
              "    <div class=\"colab-df-container\">\n",
              "      <div>\n",
              "<style scoped>\n",
              "    .dataframe tbody tr th:only-of-type {\n",
              "        vertical-align: middle;\n",
              "    }\n",
              "\n",
              "    .dataframe tbody tr th {\n",
              "        vertical-align: top;\n",
              "    }\n",
              "\n",
              "    .dataframe thead th {\n",
              "        text-align: right;\n",
              "    }\n",
              "</style>\n",
              "<table border=\"1\" class=\"dataframe\">\n",
              "  <thead>\n",
              "    <tr style=\"text-align: right;\">\n",
              "      <th></th>\n",
              "      <th>complaint_text</th>\n",
              "      <th>category</th>\n",
              "      <th>sub_category</th>\n",
              "    </tr>\n",
              "  </thead>\n",
              "  <tbody>\n",
              "    <tr>\n",
              "      <th>0</th>\n",
              "      <td></td>\n",
              "      <td>Debt collection</td>\n",
              "      <td>Credit card debt</td>\n",
              "    </tr>\n",
              "    <tr>\n",
              "      <th>1</th>\n",
              "      <td>Good morning my name is XXXX XXXX and I apprec...</td>\n",
              "      <td>Debt collection</td>\n",
              "      <td>Credit card debt</td>\n",
              "    </tr>\n",
              "    <tr>\n",
              "      <th>2</th>\n",
              "      <td>I upgraded my XXXX XXXX card in XX/XX/2018 and...</td>\n",
              "      <td>Credit card or prepaid card</td>\n",
              "      <td>General-purpose credit card or charge card</td>\n",
              "    </tr>\n",
              "    <tr>\n",
              "      <th>3</th>\n",
              "      <td></td>\n",
              "      <td>Mortgage</td>\n",
              "      <td>Conventional home mortgage</td>\n",
              "    </tr>\n",
              "    <tr>\n",
              "      <th>4</th>\n",
              "      <td></td>\n",
              "      <td>Credit card or prepaid card</td>\n",
              "      <td>General-purpose credit card or charge card</td>\n",
              "    </tr>\n",
              "  </tbody>\n",
              "</table>\n",
              "</div>\n",
              "      <button class=\"colab-df-convert\" onclick=\"convertToInteractive('df-4ad0e374-2313-4e4d-a4f7-db3d2d281701')\"\n",
              "              title=\"Convert this dataframe to an interactive table.\"\n",
              "              style=\"display:none;\">\n",
              "        \n",
              "  <svg xmlns=\"http://www.w3.org/2000/svg\" height=\"24px\"viewBox=\"0 0 24 24\"\n",
              "       width=\"24px\">\n",
              "    <path d=\"M0 0h24v24H0V0z\" fill=\"none\"/>\n",
              "    <path d=\"M18.56 5.44l.94 2.06.94-2.06 2.06-.94-2.06-.94-.94-2.06-.94 2.06-2.06.94zm-11 1L8.5 8.5l.94-2.06 2.06-.94-2.06-.94L8.5 2.5l-.94 2.06-2.06.94zm10 10l.94 2.06.94-2.06 2.06-.94-2.06-.94-.94-2.06-.94 2.06-2.06.94z\"/><path d=\"M17.41 7.96l-1.37-1.37c-.4-.4-.92-.59-1.43-.59-.52 0-1.04.2-1.43.59L10.3 9.45l-7.72 7.72c-.78.78-.78 2.05 0 2.83L4 21.41c.39.39.9.59 1.41.59.51 0 1.02-.2 1.41-.59l7.78-7.78 2.81-2.81c.8-.78.8-2.07 0-2.86zM5.41 20L4 18.59l7.72-7.72 1.47 1.35L5.41 20z\"/>\n",
              "  </svg>\n",
              "      </button>\n",
              "      \n",
              "  <style>\n",
              "    .colab-df-container {\n",
              "      display:flex;\n",
              "      flex-wrap:wrap;\n",
              "      gap: 12px;\n",
              "    }\n",
              "\n",
              "    .colab-df-convert {\n",
              "      background-color: #E8F0FE;\n",
              "      border: none;\n",
              "      border-radius: 50%;\n",
              "      cursor: pointer;\n",
              "      display: none;\n",
              "      fill: #1967D2;\n",
              "      height: 32px;\n",
              "      padding: 0 0 0 0;\n",
              "      width: 32px;\n",
              "    }\n",
              "\n",
              "    .colab-df-convert:hover {\n",
              "      background-color: #E2EBFA;\n",
              "      box-shadow: 0px 1px 2px rgba(60, 64, 67, 0.3), 0px 1px 3px 1px rgba(60, 64, 67, 0.15);\n",
              "      fill: #174EA6;\n",
              "    }\n",
              "\n",
              "    [theme=dark] .colab-df-convert {\n",
              "      background-color: #3B4455;\n",
              "      fill: #D2E3FC;\n",
              "    }\n",
              "\n",
              "    [theme=dark] .colab-df-convert:hover {\n",
              "      background-color: #434B5C;\n",
              "      box-shadow: 0px 1px 3px 1px rgba(0, 0, 0, 0.15);\n",
              "      filter: drop-shadow(0px 1px 2px rgba(0, 0, 0, 0.3));\n",
              "      fill: #FFFFFF;\n",
              "    }\n",
              "  </style>\n",
              "\n",
              "      <script>\n",
              "        const buttonEl =\n",
              "          document.querySelector('#df-4ad0e374-2313-4e4d-a4f7-db3d2d281701 button.colab-df-convert');\n",
              "        buttonEl.style.display =\n",
              "          google.colab.kernel.accessAllowed ? 'block' : 'none';\n",
              "\n",
              "        async function convertToInteractive(key) {\n",
              "          const element = document.querySelector('#df-4ad0e374-2313-4e4d-a4f7-db3d2d281701');\n",
              "          const dataTable =\n",
              "            await google.colab.kernel.invokeFunction('convertToInteractive',\n",
              "                                                     [key], {});\n",
              "          if (!dataTable) return;\n",
              "\n",
              "          const docLinkHtml = 'Like what you see? Visit the ' +\n",
              "            '<a target=\"_blank\" href=https://colab.research.google.com/notebooks/data_table.ipynb>data table notebook</a>'\n",
              "            + ' to learn more about interactive tables.';\n",
              "          element.innerHTML = '';\n",
              "          dataTable['output_type'] = 'display_data';\n",
              "          await google.colab.output.renderOutput(dataTable, element);\n",
              "          const docLink = document.createElement('div');\n",
              "          docLink.innerHTML = docLinkHtml;\n",
              "          element.appendChild(docLink);\n",
              "        }\n",
              "      </script>\n",
              "    </div>\n",
              "  </div>\n",
              "  "
            ]
          },
          "metadata": {},
          "execution_count": 7
        }
      ],
      "source": [
        "#Assign new column names\n",
        "#renaming the column names for better readability\n",
        "\n",
        "df = df[['_source.complaint_what_happened','_source.product','_source.sub_product',]]\n",
        "\n",
        "df = df.rename(columns={'_source.complaint_what_happened': 'complaint_text', '_source.product': 'category','_source.sub_product': 'sub_category'})\n",
        "df.head()"
      ]
    },
    {
      "cell_type": "code",
      "execution_count": 8,
      "metadata": {
        "id": "grQUPFL5JrFx",
        "outputId": "d93c5c1e-3899-45c3-ec93-2b49cb86cc0d",
        "colab": {
          "base_uri": "https://localhost:8080/"
        }
      },
      "outputs": [
        {
          "output_type": "execute_result",
          "data": {
            "text/plain": [
              "57241"
            ]
          },
          "metadata": {},
          "execution_count": 8
        }
      ],
      "source": [
        "#Assign nan in place of blanks in the complaints column\n",
        "df[df['complaint_text']==''] = np.nan\n",
        "df.complaint_text.isnull().sum()"
      ]
    },
    {
      "cell_type": "code",
      "execution_count": 9,
      "metadata": {
        "id": "Jfxd8VSmJrFy",
        "outputId": "e18c00bf-c6e2-4142-e8bb-72c12e4cee69",
        "colab": {
          "base_uri": "https://localhost:8080/"
        }
      },
      "outputs": [
        {
          "output_type": "execute_result",
          "data": {
            "text/plain": [
              "0"
            ]
          },
          "metadata": {},
          "execution_count": 9
        }
      ],
      "source": [
        "#Remove all rows where complaints column is nan\n",
        "df = df[~df['complaint_text'].isnull()]\n",
        "df.complaint_text.isnull().sum()"
      ]
    },
    {
      "cell_type": "code",
      "execution_count": 10,
      "metadata": {
        "id": "Ul3hmzKQ-v5f",
        "outputId": "c0fa3b62-84f3-442e-f2a7-6c02afd8e3a5",
        "colab": {
          "base_uri": "https://localhost:8080/",
          "height": 206
        }
      },
      "outputs": [
        {
          "output_type": "execute_result",
          "data": {
            "text/plain": [
              "                                       complaint_text  \\\n",
              "1   Good morning my name is XXXX XXXX and I apprec...   \n",
              "2   I upgraded my XXXX XXXX card in XX/XX/2018 and...   \n",
              "10  Chase Card was reported on XX/XX/2019. However...   \n",
              "11  On XX/XX/2018, while trying to book a XXXX  XX...   \n",
              "14  my grand son give me check for {$1600.00} i de...   \n",
              "\n",
              "                                             category  \\\n",
              "1                                     Debt collection   \n",
              "2                         Credit card or prepaid card   \n",
              "10  Credit reporting, credit repair services, or o...   \n",
              "11  Credit reporting, credit repair services, or o...   \n",
              "14                        Checking or savings account   \n",
              "\n",
              "                                  sub_category  \n",
              "1                             Credit card debt  \n",
              "2   General-purpose credit card or charge card  \n",
              "10              Other personal consumer report  \n",
              "11                            Credit reporting  \n",
              "14                            Checking account  "
            ],
            "text/html": [
              "\n",
              "  <div id=\"df-eb87fbe3-b8db-45b8-8657-bf85ccc9855d\">\n",
              "    <div class=\"colab-df-container\">\n",
              "      <div>\n",
              "<style scoped>\n",
              "    .dataframe tbody tr th:only-of-type {\n",
              "        vertical-align: middle;\n",
              "    }\n",
              "\n",
              "    .dataframe tbody tr th {\n",
              "        vertical-align: top;\n",
              "    }\n",
              "\n",
              "    .dataframe thead th {\n",
              "        text-align: right;\n",
              "    }\n",
              "</style>\n",
              "<table border=\"1\" class=\"dataframe\">\n",
              "  <thead>\n",
              "    <tr style=\"text-align: right;\">\n",
              "      <th></th>\n",
              "      <th>complaint_text</th>\n",
              "      <th>category</th>\n",
              "      <th>sub_category</th>\n",
              "    </tr>\n",
              "  </thead>\n",
              "  <tbody>\n",
              "    <tr>\n",
              "      <th>1</th>\n",
              "      <td>Good morning my name is XXXX XXXX and I apprec...</td>\n",
              "      <td>Debt collection</td>\n",
              "      <td>Credit card debt</td>\n",
              "    </tr>\n",
              "    <tr>\n",
              "      <th>2</th>\n",
              "      <td>I upgraded my XXXX XXXX card in XX/XX/2018 and...</td>\n",
              "      <td>Credit card or prepaid card</td>\n",
              "      <td>General-purpose credit card or charge card</td>\n",
              "    </tr>\n",
              "    <tr>\n",
              "      <th>10</th>\n",
              "      <td>Chase Card was reported on XX/XX/2019. However...</td>\n",
              "      <td>Credit reporting, credit repair services, or o...</td>\n",
              "      <td>Other personal consumer report</td>\n",
              "    </tr>\n",
              "    <tr>\n",
              "      <th>11</th>\n",
              "      <td>On XX/XX/2018, while trying to book a XXXX  XX...</td>\n",
              "      <td>Credit reporting, credit repair services, or o...</td>\n",
              "      <td>Credit reporting</td>\n",
              "    </tr>\n",
              "    <tr>\n",
              "      <th>14</th>\n",
              "      <td>my grand son give me check for {$1600.00} i de...</td>\n",
              "      <td>Checking or savings account</td>\n",
              "      <td>Checking account</td>\n",
              "    </tr>\n",
              "  </tbody>\n",
              "</table>\n",
              "</div>\n",
              "      <button class=\"colab-df-convert\" onclick=\"convertToInteractive('df-eb87fbe3-b8db-45b8-8657-bf85ccc9855d')\"\n",
              "              title=\"Convert this dataframe to an interactive table.\"\n",
              "              style=\"display:none;\">\n",
              "        \n",
              "  <svg xmlns=\"http://www.w3.org/2000/svg\" height=\"24px\"viewBox=\"0 0 24 24\"\n",
              "       width=\"24px\">\n",
              "    <path d=\"M0 0h24v24H0V0z\" fill=\"none\"/>\n",
              "    <path d=\"M18.56 5.44l.94 2.06.94-2.06 2.06-.94-2.06-.94-.94-2.06-.94 2.06-2.06.94zm-11 1L8.5 8.5l.94-2.06 2.06-.94-2.06-.94L8.5 2.5l-.94 2.06-2.06.94zm10 10l.94 2.06.94-2.06 2.06-.94-2.06-.94-.94-2.06-.94 2.06-2.06.94z\"/><path d=\"M17.41 7.96l-1.37-1.37c-.4-.4-.92-.59-1.43-.59-.52 0-1.04.2-1.43.59L10.3 9.45l-7.72 7.72c-.78.78-.78 2.05 0 2.83L4 21.41c.39.39.9.59 1.41.59.51 0 1.02-.2 1.41-.59l7.78-7.78 2.81-2.81c.8-.78.8-2.07 0-2.86zM5.41 20L4 18.59l7.72-7.72 1.47 1.35L5.41 20z\"/>\n",
              "  </svg>\n",
              "      </button>\n",
              "      \n",
              "  <style>\n",
              "    .colab-df-container {\n",
              "      display:flex;\n",
              "      flex-wrap:wrap;\n",
              "      gap: 12px;\n",
              "    }\n",
              "\n",
              "    .colab-df-convert {\n",
              "      background-color: #E8F0FE;\n",
              "      border: none;\n",
              "      border-radius: 50%;\n",
              "      cursor: pointer;\n",
              "      display: none;\n",
              "      fill: #1967D2;\n",
              "      height: 32px;\n",
              "      padding: 0 0 0 0;\n",
              "      width: 32px;\n",
              "    }\n",
              "\n",
              "    .colab-df-convert:hover {\n",
              "      background-color: #E2EBFA;\n",
              "      box-shadow: 0px 1px 2px rgba(60, 64, 67, 0.3), 0px 1px 3px 1px rgba(60, 64, 67, 0.15);\n",
              "      fill: #174EA6;\n",
              "    }\n",
              "\n",
              "    [theme=dark] .colab-df-convert {\n",
              "      background-color: #3B4455;\n",
              "      fill: #D2E3FC;\n",
              "    }\n",
              "\n",
              "    [theme=dark] .colab-df-convert:hover {\n",
              "      background-color: #434B5C;\n",
              "      box-shadow: 0px 1px 3px 1px rgba(0, 0, 0, 0.15);\n",
              "      filter: drop-shadow(0px 1px 2px rgba(0, 0, 0, 0.3));\n",
              "      fill: #FFFFFF;\n",
              "    }\n",
              "  </style>\n",
              "\n",
              "      <script>\n",
              "        const buttonEl =\n",
              "          document.querySelector('#df-eb87fbe3-b8db-45b8-8657-bf85ccc9855d button.colab-df-convert');\n",
              "        buttonEl.style.display =\n",
              "          google.colab.kernel.accessAllowed ? 'block' : 'none';\n",
              "\n",
              "        async function convertToInteractive(key) {\n",
              "          const element = document.querySelector('#df-eb87fbe3-b8db-45b8-8657-bf85ccc9855d');\n",
              "          const dataTable =\n",
              "            await google.colab.kernel.invokeFunction('convertToInteractive',\n",
              "                                                     [key], {});\n",
              "          if (!dataTable) return;\n",
              "\n",
              "          const docLinkHtml = 'Like what you see? Visit the ' +\n",
              "            '<a target=\"_blank\" href=https://colab.research.google.com/notebooks/data_table.ipynb>data table notebook</a>'\n",
              "            + ' to learn more about interactive tables.';\n",
              "          element.innerHTML = '';\n",
              "          dataTable['output_type'] = 'display_data';\n",
              "          await google.colab.output.renderOutput(dataTable, element);\n",
              "          const docLink = document.createElement('div');\n",
              "          docLink.innerHTML = docLinkHtml;\n",
              "          element.appendChild(docLink);\n",
              "        }\n",
              "      </script>\n",
              "    </div>\n",
              "  </div>\n",
              "  "
            ]
          },
          "metadata": {},
          "execution_count": 10
        }
      ],
      "source": [
        "df.head (5)"
      ]
    },
    {
      "cell_type": "markdown",
      "metadata": {
        "id": "L944HZpsJrFy"
      },
      "source": [
        "## Prepare the text for topic modeling\n",
        "\n",
        "Once you have removed all the blank complaints, you need to:\n",
        "\n",
        "* Make the text lowercase\n",
        "* Remove text in square brackets\n",
        "* Remove punctuation\n",
        "* Remove words containing numbers\n",
        "\n",
        "\n",
        "Once you have done these cleaning operations you need to perform the following:\n",
        "* Lemmatize the texts\n",
        "* Extract the POS tags of the lemmatized text and remove all the words which have tags other than NN[tag == \"NN\"].\n"
      ]
    },
    {
      "cell_type": "code",
      "execution_count": 11,
      "metadata": {
        "id": "qm7SjjSkJrFz"
      },
      "outputs": [],
      "source": [
        "# Write your function here to clean the text and remove all the unnecessary elements.\n",
        "def clean_text(text):\n",
        "    text = text.lower()  # Make the text lowercase\n",
        "    text = re.sub('\\[.*\\]','', text).strip() # Remove text in square brackets\n",
        "    text = text.translate(str.maketrans('', '', string.punctuation)) # Remove punctuation\n",
        "    text = re.sub('\\S*\\d\\S*\\s*','', text).strip()  # Remove words containing numbers\n",
        "    return text.strip()"
      ]
    },
    {
      "cell_type": "code",
      "execution_count": 12,
      "metadata": {
        "id": "Jek7_jau-v5h",
        "outputId": "9c47781d-f919-4dbd-fe63-e4aac5117b2f",
        "colab": {
          "base_uri": "https://localhost:8080/"
        }
      },
      "outputs": [
        {
          "output_type": "execute_result",
          "data": {
            "text/plain": [
              "1     Good morning my name is XXXX XXXX and I apprec...\n",
              "2     I upgraded my XXXX XXXX card in XX/XX/2018 and...\n",
              "10    Chase Card was reported on XX/XX/2019. However...\n",
              "11    On XX/XX/2018, while trying to book a XXXX  XX...\n",
              "14    my grand son give me check for {$1600.00} i de...\n",
              "Name: complaint_text, dtype: object"
            ]
          },
          "metadata": {},
          "execution_count": 12
        }
      ],
      "source": [
        "df.complaint_text.head()"
      ]
    },
    {
      "cell_type": "code",
      "execution_count": 13,
      "metadata": {
        "id": "my7hMmFN-v5h",
        "outputId": "b977f7da-4df6-4ab8-d39d-df8fb6c5c349",
        "colab": {
          "base_uri": "https://localhost:8080/"
        }
      },
      "outputs": [
        {
          "output_type": "execute_result",
          "data": {
            "text/plain": [
              "1     good morning my name is xxxx xxxx and i apprec...\n",
              "2     i upgraded my xxxx xxxx card in and was told b...\n",
              "10    chase card was reported on however fraudulent ...\n",
              "11    on while trying to book a xxxx  xxxx  ticket i...\n",
              "14    my grand son give me check for i deposit it in...\n",
              "Name: complaint_text, dtype: object"
            ]
          },
          "metadata": {},
          "execution_count": 13
        }
      ],
      "source": [
        "df.complaint_text = df.complaint_text.apply(lambda x: clean_text(x))\n",
        "df.complaint_text.head()"
      ]
    },
    {
      "cell_type": "code",
      "execution_count": 14,
      "metadata": {
        "id": "5ou-1SIM-v5h",
        "outputId": "143a0628-07a0-412a-cc2e-eb91128839c7",
        "colab": {
          "base_uri": "https://localhost:8080/"
        }
      },
      "outputs": [
        {
          "output_type": "stream",
          "name": "stdout",
          "text": [
            "['tok2vec', 'tagger', 'parser', 'attribute_ruler', 'lemmatizer', 'ner']\n"
          ]
        }
      ],
      "source": [
        "print(nlp.pipe_names)"
      ]
    },
    {
      "cell_type": "code",
      "execution_count": 15,
      "metadata": {
        "id": "WgBrQjH2-v5i"
      },
      "outputs": [],
      "source": [
        "#nlp = en_core_web_sm.load(disable = ['ner', 'parser'])\n",
        "#print(nlp.pipe_names)"
      ]
    },
    {
      "cell_type": "code",
      "execution_count": 16,
      "metadata": {
        "id": "zgOu8t8HJrFz"
      },
      "outputs": [],
      "source": [
        "#Write your function to Lemmatize the texts\n",
        "stopwords = nlp.Defaults.stop_words\n",
        "\n",
        "def lemmatizer(text):\n",
        "    doc = nlp(text)\n",
        "    lemmatized_output = ' '.join([token.lemma_ for token in doc if not token.text in set(stopwords)])\n",
        "    return lemmatized_output"
      ]
    },
    {
      "cell_type": "code",
      "execution_count": 17,
      "metadata": {
        "id": "kDV9ekql-v5i",
        "outputId": "ec8589f8-724e-4ddd-d21c-287017deae95",
        "colab": {
          "base_uri": "https://localhost:8080/",
          "height": 206
        }
      },
      "outputs": [
        {
          "output_type": "execute_result",
          "data": {
            "text/plain": [
              "                                       complaint_text  \\\n",
              "1   good morning my name is xxxx xxxx and i apprec...   \n",
              "2   i upgraded my xxxx xxxx card in and was told b...   \n",
              "10  chase card was reported on however fraudulent ...   \n",
              "11  on while trying to book a xxxx  xxxx  ticket i...   \n",
              "14  my grand son give me check for i deposit it in...   \n",
              "\n",
              "                                             category  \\\n",
              "1                                     Debt collection   \n",
              "2                         Credit card or prepaid card   \n",
              "10  Credit reporting, credit repair services, or o...   \n",
              "11  Credit reporting, credit repair services, or o...   \n",
              "14                        Checking or savings account   \n",
              "\n",
              "                                  sub_category  \\\n",
              "1                             Credit card debt   \n",
              "2   General-purpose credit card or charge card   \n",
              "10              Other personal consumer report   \n",
              "11                            Credit reporting   \n",
              "14                            Checking account   \n",
              "\n",
              "                                 lemmatized_complaint  \n",
              "1   good morning xxxx xxxx appreciate help stop ch...  \n",
              "2   upgrade xxxx xxxx card tell agent upgrade anni...  \n",
              "10  chase card report fraudulent application submi...  \n",
              "11  try book xxxx   xxxx   ticket come offer apply...  \n",
              "14  grand son check deposit chase account fund cle...  "
            ],
            "text/html": [
              "\n",
              "  <div id=\"df-5901cfe9-4788-4693-9c48-3d2dc7cecb11\">\n",
              "    <div class=\"colab-df-container\">\n",
              "      <div>\n",
              "<style scoped>\n",
              "    .dataframe tbody tr th:only-of-type {\n",
              "        vertical-align: middle;\n",
              "    }\n",
              "\n",
              "    .dataframe tbody tr th {\n",
              "        vertical-align: top;\n",
              "    }\n",
              "\n",
              "    .dataframe thead th {\n",
              "        text-align: right;\n",
              "    }\n",
              "</style>\n",
              "<table border=\"1\" class=\"dataframe\">\n",
              "  <thead>\n",
              "    <tr style=\"text-align: right;\">\n",
              "      <th></th>\n",
              "      <th>complaint_text</th>\n",
              "      <th>category</th>\n",
              "      <th>sub_category</th>\n",
              "      <th>lemmatized_complaint</th>\n",
              "    </tr>\n",
              "  </thead>\n",
              "  <tbody>\n",
              "    <tr>\n",
              "      <th>1</th>\n",
              "      <td>good morning my name is xxxx xxxx and i apprec...</td>\n",
              "      <td>Debt collection</td>\n",
              "      <td>Credit card debt</td>\n",
              "      <td>good morning xxxx xxxx appreciate help stop ch...</td>\n",
              "    </tr>\n",
              "    <tr>\n",
              "      <th>2</th>\n",
              "      <td>i upgraded my xxxx xxxx card in and was told b...</td>\n",
              "      <td>Credit card or prepaid card</td>\n",
              "      <td>General-purpose credit card or charge card</td>\n",
              "      <td>upgrade xxxx xxxx card tell agent upgrade anni...</td>\n",
              "    </tr>\n",
              "    <tr>\n",
              "      <th>10</th>\n",
              "      <td>chase card was reported on however fraudulent ...</td>\n",
              "      <td>Credit reporting, credit repair services, or o...</td>\n",
              "      <td>Other personal consumer report</td>\n",
              "      <td>chase card report fraudulent application submi...</td>\n",
              "    </tr>\n",
              "    <tr>\n",
              "      <th>11</th>\n",
              "      <td>on while trying to book a xxxx  xxxx  ticket i...</td>\n",
              "      <td>Credit reporting, credit repair services, or o...</td>\n",
              "      <td>Credit reporting</td>\n",
              "      <td>try book xxxx   xxxx   ticket come offer apply...</td>\n",
              "    </tr>\n",
              "    <tr>\n",
              "      <th>14</th>\n",
              "      <td>my grand son give me check for i deposit it in...</td>\n",
              "      <td>Checking or savings account</td>\n",
              "      <td>Checking account</td>\n",
              "      <td>grand son check deposit chase account fund cle...</td>\n",
              "    </tr>\n",
              "  </tbody>\n",
              "</table>\n",
              "</div>\n",
              "      <button class=\"colab-df-convert\" onclick=\"convertToInteractive('df-5901cfe9-4788-4693-9c48-3d2dc7cecb11')\"\n",
              "              title=\"Convert this dataframe to an interactive table.\"\n",
              "              style=\"display:none;\">\n",
              "        \n",
              "  <svg xmlns=\"http://www.w3.org/2000/svg\" height=\"24px\"viewBox=\"0 0 24 24\"\n",
              "       width=\"24px\">\n",
              "    <path d=\"M0 0h24v24H0V0z\" fill=\"none\"/>\n",
              "    <path d=\"M18.56 5.44l.94 2.06.94-2.06 2.06-.94-2.06-.94-.94-2.06-.94 2.06-2.06.94zm-11 1L8.5 8.5l.94-2.06 2.06-.94-2.06-.94L8.5 2.5l-.94 2.06-2.06.94zm10 10l.94 2.06.94-2.06 2.06-.94-2.06-.94-.94-2.06-.94 2.06-2.06.94z\"/><path d=\"M17.41 7.96l-1.37-1.37c-.4-.4-.92-.59-1.43-.59-.52 0-1.04.2-1.43.59L10.3 9.45l-7.72 7.72c-.78.78-.78 2.05 0 2.83L4 21.41c.39.39.9.59 1.41.59.51 0 1.02-.2 1.41-.59l7.78-7.78 2.81-2.81c.8-.78.8-2.07 0-2.86zM5.41 20L4 18.59l7.72-7.72 1.47 1.35L5.41 20z\"/>\n",
              "  </svg>\n",
              "      </button>\n",
              "      \n",
              "  <style>\n",
              "    .colab-df-container {\n",
              "      display:flex;\n",
              "      flex-wrap:wrap;\n",
              "      gap: 12px;\n",
              "    }\n",
              "\n",
              "    .colab-df-convert {\n",
              "      background-color: #E8F0FE;\n",
              "      border: none;\n",
              "      border-radius: 50%;\n",
              "      cursor: pointer;\n",
              "      display: none;\n",
              "      fill: #1967D2;\n",
              "      height: 32px;\n",
              "      padding: 0 0 0 0;\n",
              "      width: 32px;\n",
              "    }\n",
              "\n",
              "    .colab-df-convert:hover {\n",
              "      background-color: #E2EBFA;\n",
              "      box-shadow: 0px 1px 2px rgba(60, 64, 67, 0.3), 0px 1px 3px 1px rgba(60, 64, 67, 0.15);\n",
              "      fill: #174EA6;\n",
              "    }\n",
              "\n",
              "    [theme=dark] .colab-df-convert {\n",
              "      background-color: #3B4455;\n",
              "      fill: #D2E3FC;\n",
              "    }\n",
              "\n",
              "    [theme=dark] .colab-df-convert:hover {\n",
              "      background-color: #434B5C;\n",
              "      box-shadow: 0px 1px 3px 1px rgba(0, 0, 0, 0.15);\n",
              "      filter: drop-shadow(0px 1px 2px rgba(0, 0, 0, 0.3));\n",
              "      fill: #FFFFFF;\n",
              "    }\n",
              "  </style>\n",
              "\n",
              "      <script>\n",
              "        const buttonEl =\n",
              "          document.querySelector('#df-5901cfe9-4788-4693-9c48-3d2dc7cecb11 button.colab-df-convert');\n",
              "        buttonEl.style.display =\n",
              "          google.colab.kernel.accessAllowed ? 'block' : 'none';\n",
              "\n",
              "        async function convertToInteractive(key) {\n",
              "          const element = document.querySelector('#df-5901cfe9-4788-4693-9c48-3d2dc7cecb11');\n",
              "          const dataTable =\n",
              "            await google.colab.kernel.invokeFunction('convertToInteractive',\n",
              "                                                     [key], {});\n",
              "          if (!dataTable) return;\n",
              "\n",
              "          const docLinkHtml = 'Like what you see? Visit the ' +\n",
              "            '<a target=\"_blank\" href=https://colab.research.google.com/notebooks/data_table.ipynb>data table notebook</a>'\n",
              "            + ' to learn more about interactive tables.';\n",
              "          element.innerHTML = '';\n",
              "          dataTable['output_type'] = 'display_data';\n",
              "          await google.colab.output.renderOutput(dataTable, element);\n",
              "          const docLink = document.createElement('div');\n",
              "          docLink.innerHTML = docLinkHtml;\n",
              "          element.appendChild(docLink);\n",
              "        }\n",
              "      </script>\n",
              "    </div>\n",
              "  </div>\n",
              "  "
            ]
          },
          "metadata": {},
          "execution_count": 17
        }
      ],
      "source": [
        "df['lemmatized_complaint'] =  df.complaint_text.apply(lambda x: lemmatizer(x))\n",
        "df.head(5)"
      ]
    },
    {
      "cell_type": "code",
      "execution_count": 18,
      "metadata": {
        "id": "uXnN7aa_JrF0",
        "colab": {
          "base_uri": "https://localhost:8080/",
          "height": 206
        },
        "outputId": "4d8a463a-3397-43e9-fa1c-9e80869af763"
      },
      "outputs": [
        {
          "output_type": "execute_result",
          "data": {
            "text/plain": [
              "                                       complaint_text  \\\n",
              "1   good morning my name is xxxx xxxx and i apprec...   \n",
              "2   i upgraded my xxxx xxxx card in and was told b...   \n",
              "10  chase card was reported on however fraudulent ...   \n",
              "11  on while trying to book a xxxx  xxxx  ticket i...   \n",
              "14  my grand son give me check for i deposit it in...   \n",
              "\n",
              "                                 lemmatized_complaint  \n",
              "1   good morning xxxx xxxx appreciate help stop ch...  \n",
              "2   upgrade xxxx xxxx card tell agent upgrade anni...  \n",
              "10  chase card report fraudulent application submi...  \n",
              "11  try book xxxx   xxxx   ticket come offer apply...  \n",
              "14  grand son check deposit chase account fund cle...  "
            ],
            "text/html": [
              "\n",
              "  <div id=\"df-dea3cb81-16f5-4b61-b9a7-324415f89b4a\">\n",
              "    <div class=\"colab-df-container\">\n",
              "      <div>\n",
              "<style scoped>\n",
              "    .dataframe tbody tr th:only-of-type {\n",
              "        vertical-align: middle;\n",
              "    }\n",
              "\n",
              "    .dataframe tbody tr th {\n",
              "        vertical-align: top;\n",
              "    }\n",
              "\n",
              "    .dataframe thead th {\n",
              "        text-align: right;\n",
              "    }\n",
              "</style>\n",
              "<table border=\"1\" class=\"dataframe\">\n",
              "  <thead>\n",
              "    <tr style=\"text-align: right;\">\n",
              "      <th></th>\n",
              "      <th>complaint_text</th>\n",
              "      <th>lemmatized_complaint</th>\n",
              "    </tr>\n",
              "  </thead>\n",
              "  <tbody>\n",
              "    <tr>\n",
              "      <th>1</th>\n",
              "      <td>good morning my name is xxxx xxxx and i apprec...</td>\n",
              "      <td>good morning xxxx xxxx appreciate help stop ch...</td>\n",
              "    </tr>\n",
              "    <tr>\n",
              "      <th>2</th>\n",
              "      <td>i upgraded my xxxx xxxx card in and was told b...</td>\n",
              "      <td>upgrade xxxx xxxx card tell agent upgrade anni...</td>\n",
              "    </tr>\n",
              "    <tr>\n",
              "      <th>10</th>\n",
              "      <td>chase card was reported on however fraudulent ...</td>\n",
              "      <td>chase card report fraudulent application submi...</td>\n",
              "    </tr>\n",
              "    <tr>\n",
              "      <th>11</th>\n",
              "      <td>on while trying to book a xxxx  xxxx  ticket i...</td>\n",
              "      <td>try book xxxx   xxxx   ticket come offer apply...</td>\n",
              "    </tr>\n",
              "    <tr>\n",
              "      <th>14</th>\n",
              "      <td>my grand son give me check for i deposit it in...</td>\n",
              "      <td>grand son check deposit chase account fund cle...</td>\n",
              "    </tr>\n",
              "  </tbody>\n",
              "</table>\n",
              "</div>\n",
              "      <button class=\"colab-df-convert\" onclick=\"convertToInteractive('df-dea3cb81-16f5-4b61-b9a7-324415f89b4a')\"\n",
              "              title=\"Convert this dataframe to an interactive table.\"\n",
              "              style=\"display:none;\">\n",
              "        \n",
              "  <svg xmlns=\"http://www.w3.org/2000/svg\" height=\"24px\"viewBox=\"0 0 24 24\"\n",
              "       width=\"24px\">\n",
              "    <path d=\"M0 0h24v24H0V0z\" fill=\"none\"/>\n",
              "    <path d=\"M18.56 5.44l.94 2.06.94-2.06 2.06-.94-2.06-.94-.94-2.06-.94 2.06-2.06.94zm-11 1L8.5 8.5l.94-2.06 2.06-.94-2.06-.94L8.5 2.5l-.94 2.06-2.06.94zm10 10l.94 2.06.94-2.06 2.06-.94-2.06-.94-.94-2.06-.94 2.06-2.06.94z\"/><path d=\"M17.41 7.96l-1.37-1.37c-.4-.4-.92-.59-1.43-.59-.52 0-1.04.2-1.43.59L10.3 9.45l-7.72 7.72c-.78.78-.78 2.05 0 2.83L4 21.41c.39.39.9.59 1.41.59.51 0 1.02-.2 1.41-.59l7.78-7.78 2.81-2.81c.8-.78.8-2.07 0-2.86zM5.41 20L4 18.59l7.72-7.72 1.47 1.35L5.41 20z\"/>\n",
              "  </svg>\n",
              "      </button>\n",
              "      \n",
              "  <style>\n",
              "    .colab-df-container {\n",
              "      display:flex;\n",
              "      flex-wrap:wrap;\n",
              "      gap: 12px;\n",
              "    }\n",
              "\n",
              "    .colab-df-convert {\n",
              "      background-color: #E8F0FE;\n",
              "      border: none;\n",
              "      border-radius: 50%;\n",
              "      cursor: pointer;\n",
              "      display: none;\n",
              "      fill: #1967D2;\n",
              "      height: 32px;\n",
              "      padding: 0 0 0 0;\n",
              "      width: 32px;\n",
              "    }\n",
              "\n",
              "    .colab-df-convert:hover {\n",
              "      background-color: #E2EBFA;\n",
              "      box-shadow: 0px 1px 2px rgba(60, 64, 67, 0.3), 0px 1px 3px 1px rgba(60, 64, 67, 0.15);\n",
              "      fill: #174EA6;\n",
              "    }\n",
              "\n",
              "    [theme=dark] .colab-df-convert {\n",
              "      background-color: #3B4455;\n",
              "      fill: #D2E3FC;\n",
              "    }\n",
              "\n",
              "    [theme=dark] .colab-df-convert:hover {\n",
              "      background-color: #434B5C;\n",
              "      box-shadow: 0px 1px 3px 1px rgba(0, 0, 0, 0.15);\n",
              "      filter: drop-shadow(0px 1px 2px rgba(0, 0, 0, 0.3));\n",
              "      fill: #FFFFFF;\n",
              "    }\n",
              "  </style>\n",
              "\n",
              "      <script>\n",
              "        const buttonEl =\n",
              "          document.querySelector('#df-dea3cb81-16f5-4b61-b9a7-324415f89b4a button.colab-df-convert');\n",
              "        buttonEl.style.display =\n",
              "          google.colab.kernel.accessAllowed ? 'block' : 'none';\n",
              "\n",
              "        async function convertToInteractive(key) {\n",
              "          const element = document.querySelector('#df-dea3cb81-16f5-4b61-b9a7-324415f89b4a');\n",
              "          const dataTable =\n",
              "            await google.colab.kernel.invokeFunction('convertToInteractive',\n",
              "                                                     [key], {});\n",
              "          if (!dataTable) return;\n",
              "\n",
              "          const docLinkHtml = 'Like what you see? Visit the ' +\n",
              "            '<a target=\"_blank\" href=https://colab.research.google.com/notebooks/data_table.ipynb>data table notebook</a>'\n",
              "            + ' to learn more about interactive tables.';\n",
              "          element.innerHTML = '';\n",
              "          dataTable['output_type'] = 'display_data';\n",
              "          await google.colab.output.renderOutput(dataTable, element);\n",
              "          const docLink = document.createElement('div');\n",
              "          docLink.innerHTML = docLinkHtml;\n",
              "          element.appendChild(docLink);\n",
              "        }\n",
              "      </script>\n",
              "    </div>\n",
              "  </div>\n",
              "  "
            ]
          },
          "metadata": {},
          "execution_count": 18
        }
      ],
      "source": [
        "#Create a dataframe('df_clean') that will have only the complaints and the lemmatized complaints \n",
        "df_clean = df[['complaint_text','lemmatized_complaint']]\n",
        "df_clean.head()"
      ]
    },
    {
      "cell_type": "code",
      "execution_count": 20,
      "metadata": {
        "id": "Kk7fc4DuJrF1",
        "colab": {
          "base_uri": "https://localhost:8080/",
          "height": 345
        },
        "outputId": "5d33cc99-726f-459b-e0b4-8f771218ede9"
      },
      "outputs": [
        {
          "output_type": "stream",
          "name": "stderr",
          "text": [
            "<ipython-input-20-7cff4f3f4a6a>:9: SettingWithCopyWarning:\n",
            "\n",
            "\n",
            "A value is trying to be set on a copy of a slice from a DataFrame.\n",
            "Try using .loc[row_indexer,col_indexer] = value instead\n",
            "\n",
            "See the caveats in the documentation: https://pandas.pydata.org/pandas-docs/stable/user_guide/indexing.html#returning-a-view-versus-a-copy\n",
            "\n"
          ]
        },
        {
          "output_type": "execute_result",
          "data": {
            "text/plain": [
              "                                       complaint_text  \\\n",
              "1   good morning my name is xxxx xxxx and i apprec...   \n",
              "2   i upgraded my xxxx xxxx card in and was told b...   \n",
              "10  chase card was reported on however fraudulent ...   \n",
              "11  on while trying to book a xxxx  xxxx  ticket i...   \n",
              "14  my grand son give me check for i deposit it in...   \n",
              "\n",
              "                                 lemmatized_complaint  \\\n",
              "1   good morning xxxx xxxx appreciate help stop ch...   \n",
              "2   upgrade xxxx xxxx card tell agent upgrade anni...   \n",
              "10  chase card report fraudulent application submi...   \n",
              "11  try book xxxx   xxxx   ticket come offer apply...   \n",
              "14  grand son check deposit chase account fund cle...   \n",
              "\n",
              "                                complaint_POS_removed  \n",
              "1   morning help write chase debt verification sta...  \n",
              "2   agent upgrade anniversary date change agent in...  \n",
              "10  chase card report application submit identity ...  \n",
              "11  book ticket ticket reward card information off...  \n",
              "14  son deposit chase account account pay money sp...  "
            ],
            "text/html": [
              "\n",
              "  <div id=\"df-a393df16-7e8b-47ef-8c1f-20da14500eca\">\n",
              "    <div class=\"colab-df-container\">\n",
              "      <div>\n",
              "<style scoped>\n",
              "    .dataframe tbody tr th:only-of-type {\n",
              "        vertical-align: middle;\n",
              "    }\n",
              "\n",
              "    .dataframe tbody tr th {\n",
              "        vertical-align: top;\n",
              "    }\n",
              "\n",
              "    .dataframe thead th {\n",
              "        text-align: right;\n",
              "    }\n",
              "</style>\n",
              "<table border=\"1\" class=\"dataframe\">\n",
              "  <thead>\n",
              "    <tr style=\"text-align: right;\">\n",
              "      <th></th>\n",
              "      <th>complaint_text</th>\n",
              "      <th>lemmatized_complaint</th>\n",
              "      <th>complaint_POS_removed</th>\n",
              "    </tr>\n",
              "  </thead>\n",
              "  <tbody>\n",
              "    <tr>\n",
              "      <th>1</th>\n",
              "      <td>good morning my name is xxxx xxxx and i apprec...</td>\n",
              "      <td>good morning xxxx xxxx appreciate help stop ch...</td>\n",
              "      <td>morning help write chase debt verification sta...</td>\n",
              "    </tr>\n",
              "    <tr>\n",
              "      <th>2</th>\n",
              "      <td>i upgraded my xxxx xxxx card in and was told b...</td>\n",
              "      <td>upgrade xxxx xxxx card tell agent upgrade anni...</td>\n",
              "      <td>agent upgrade anniversary date change agent in...</td>\n",
              "    </tr>\n",
              "    <tr>\n",
              "      <th>10</th>\n",
              "      <td>chase card was reported on however fraudulent ...</td>\n",
              "      <td>chase card report fraudulent application submi...</td>\n",
              "      <td>chase card report application submit identity ...</td>\n",
              "    </tr>\n",
              "    <tr>\n",
              "      <th>11</th>\n",
              "      <td>on while trying to book a xxxx  xxxx  ticket i...</td>\n",
              "      <td>try book xxxx   xxxx   ticket come offer apply...</td>\n",
              "      <td>book ticket ticket reward card information off...</td>\n",
              "    </tr>\n",
              "    <tr>\n",
              "      <th>14</th>\n",
              "      <td>my grand son give me check for i deposit it in...</td>\n",
              "      <td>grand son check deposit chase account fund cle...</td>\n",
              "      <td>son deposit chase account account pay money sp...</td>\n",
              "    </tr>\n",
              "  </tbody>\n",
              "</table>\n",
              "</div>\n",
              "      <button class=\"colab-df-convert\" onclick=\"convertToInteractive('df-a393df16-7e8b-47ef-8c1f-20da14500eca')\"\n",
              "              title=\"Convert this dataframe to an interactive table.\"\n",
              "              style=\"display:none;\">\n",
              "        \n",
              "  <svg xmlns=\"http://www.w3.org/2000/svg\" height=\"24px\"viewBox=\"0 0 24 24\"\n",
              "       width=\"24px\">\n",
              "    <path d=\"M0 0h24v24H0V0z\" fill=\"none\"/>\n",
              "    <path d=\"M18.56 5.44l.94 2.06.94-2.06 2.06-.94-2.06-.94-.94-2.06-.94 2.06-2.06.94zm-11 1L8.5 8.5l.94-2.06 2.06-.94-2.06-.94L8.5 2.5l-.94 2.06-2.06.94zm10 10l.94 2.06.94-2.06 2.06-.94-2.06-.94-.94-2.06-.94 2.06-2.06.94z\"/><path d=\"M17.41 7.96l-1.37-1.37c-.4-.4-.92-.59-1.43-.59-.52 0-1.04.2-1.43.59L10.3 9.45l-7.72 7.72c-.78.78-.78 2.05 0 2.83L4 21.41c.39.39.9.59 1.41.59.51 0 1.02-.2 1.41-.59l7.78-7.78 2.81-2.81c.8-.78.8-2.07 0-2.86zM5.41 20L4 18.59l7.72-7.72 1.47 1.35L5.41 20z\"/>\n",
              "  </svg>\n",
              "      </button>\n",
              "      \n",
              "  <style>\n",
              "    .colab-df-container {\n",
              "      display:flex;\n",
              "      flex-wrap:wrap;\n",
              "      gap: 12px;\n",
              "    }\n",
              "\n",
              "    .colab-df-convert {\n",
              "      background-color: #E8F0FE;\n",
              "      border: none;\n",
              "      border-radius: 50%;\n",
              "      cursor: pointer;\n",
              "      display: none;\n",
              "      fill: #1967D2;\n",
              "      height: 32px;\n",
              "      padding: 0 0 0 0;\n",
              "      width: 32px;\n",
              "    }\n",
              "\n",
              "    .colab-df-convert:hover {\n",
              "      background-color: #E2EBFA;\n",
              "      box-shadow: 0px 1px 2px rgba(60, 64, 67, 0.3), 0px 1px 3px 1px rgba(60, 64, 67, 0.15);\n",
              "      fill: #174EA6;\n",
              "    }\n",
              "\n",
              "    [theme=dark] .colab-df-convert {\n",
              "      background-color: #3B4455;\n",
              "      fill: #D2E3FC;\n",
              "    }\n",
              "\n",
              "    [theme=dark] .colab-df-convert:hover {\n",
              "      background-color: #434B5C;\n",
              "      box-shadow: 0px 1px 3px 1px rgba(0, 0, 0, 0.15);\n",
              "      filter: drop-shadow(0px 1px 2px rgba(0, 0, 0, 0.3));\n",
              "      fill: #FFFFFF;\n",
              "    }\n",
              "  </style>\n",
              "\n",
              "      <script>\n",
              "        const buttonEl =\n",
              "          document.querySelector('#df-a393df16-7e8b-47ef-8c1f-20da14500eca button.colab-df-convert');\n",
              "        buttonEl.style.display =\n",
              "          google.colab.kernel.accessAllowed ? 'block' : 'none';\n",
              "\n",
              "        async function convertToInteractive(key) {\n",
              "          const element = document.querySelector('#df-a393df16-7e8b-47ef-8c1f-20da14500eca');\n",
              "          const dataTable =\n",
              "            await google.colab.kernel.invokeFunction('convertToInteractive',\n",
              "                                                     [key], {});\n",
              "          if (!dataTable) return;\n",
              "\n",
              "          const docLinkHtml = 'Like what you see? Visit the ' +\n",
              "            '<a target=\"_blank\" href=https://colab.research.google.com/notebooks/data_table.ipynb>data table notebook</a>'\n",
              "            + ' to learn more about interactive tables.';\n",
              "          element.innerHTML = '';\n",
              "          dataTable['output_type'] = 'display_data';\n",
              "          await google.colab.output.renderOutput(dataTable, element);\n",
              "          const docLink = document.createElement('div');\n",
              "          docLink.innerHTML = docLinkHtml;\n",
              "          element.appendChild(docLink);\n",
              "        }\n",
              "      </script>\n",
              "    </div>\n",
              "  </div>\n",
              "  "
            ]
          },
          "metadata": {},
          "execution_count": 20
        }
      ],
      "source": [
        "#Write your function to extract the POS tags \n",
        "nlp = en_core_web_sm.load()\n",
        "\n",
        "def extract_pos_tags(text):\n",
        "    doc = nlp(text)\n",
        "    tag_nn = [token.text for token in doc if token.tag_ == 'NN']\n",
        "    return ' '.join(tag_nn)\n",
        "\n",
        "df_clean[\"complaint_POS_removed\"] = df_clean.lemmatized_complaint.apply(lambda x: extract_pos_tags(x))\n",
        "df_clean.head()"
      ]
    },
    {
      "cell_type": "code",
      "execution_count": 21,
      "metadata": {
        "id": "AjxfchvFJrF2",
        "colab": {
          "base_uri": "https://localhost:8080/",
          "height": 424
        },
        "outputId": "55aa2718-febd-439b-8ecf-c99c485cd65d"
      },
      "outputs": [
        {
          "output_type": "execute_result",
          "data": {
            "text/plain": [
              "                                          complaint_text  \\\n",
              "1      good morning my name is xxxx xxxx and i apprec...   \n",
              "2      i upgraded my xxxx xxxx card in and was told b...   \n",
              "10     chase card was reported on however fraudulent ...   \n",
              "11     on while trying to book a xxxx  xxxx  ticket i...   \n",
              "14     my grand son give me check for i deposit it in...   \n",
              "...                                                  ...   \n",
              "78303  after being a chase card customer for well ove...   \n",
              "78309  on wednesday xxxxxxxx i called chas my xxxx xx...   \n",
              "78310  i am not familiar with xxxx pay and did not un...   \n",
              "78311  i have had flawless credit for yrs ive had cha...   \n",
              "78312  roughly years ago i closed out my accounts wit...   \n",
              "\n",
              "                                    lemmatized_complaint  \\\n",
              "1      good morning xxxx xxxx appreciate help stop ch...   \n",
              "2      upgrade xxxx xxxx card tell agent upgrade anni...   \n",
              "10     chase card report fraudulent application submi...   \n",
              "11     try book xxxx   xxxx   ticket come offer apply...   \n",
              "14     grand son check deposit chase account fund cle...   \n",
              "...                                                  ...   \n",
              "78303  chase card customer decade offer multiple soli...   \n",
              "78309  wednesday xxxxxxxx call chas xxxx xxxx visa cr...   \n",
              "78310  familiar xxxx pay understand great risk provid...   \n",
              "78311  flawless credit yrs ve chase credit card   cha...   \n",
              "78312  roughly year ago close account jp morgan chase...   \n",
              "\n",
              "                                   complaint_POS_removed  \n",
              "1      morning help write chase debt verification sta...  \n",
              "2      agent upgrade anniversary date change agent in...  \n",
              "10     chase card report application submit identity ...  \n",
              "11     book ticket ticket reward card information off...  \n",
              "14     son deposit chase account account pay money sp...  \n",
              "...                                                  ...  \n",
              "78303  chase card customer decade solicitation credit...  \n",
              "78309  credit card provider ask claim purchase protec...  \n",
              "78310  pay risk consumer app chase year trust banking...  \n",
              "78311  credit chase credit card chase freedom problem...  \n",
              "78312  year account order line credit pay account pay...  \n",
              "\n",
              "[21072 rows x 3 columns]"
            ],
            "text/html": [
              "\n",
              "  <div id=\"df-e786ae71-298d-4893-adcc-cf266f46233b\">\n",
              "    <div class=\"colab-df-container\">\n",
              "      <div>\n",
              "<style scoped>\n",
              "    .dataframe tbody tr th:only-of-type {\n",
              "        vertical-align: middle;\n",
              "    }\n",
              "\n",
              "    .dataframe tbody tr th {\n",
              "        vertical-align: top;\n",
              "    }\n",
              "\n",
              "    .dataframe thead th {\n",
              "        text-align: right;\n",
              "    }\n",
              "</style>\n",
              "<table border=\"1\" class=\"dataframe\">\n",
              "  <thead>\n",
              "    <tr style=\"text-align: right;\">\n",
              "      <th></th>\n",
              "      <th>complaint_text</th>\n",
              "      <th>lemmatized_complaint</th>\n",
              "      <th>complaint_POS_removed</th>\n",
              "    </tr>\n",
              "  </thead>\n",
              "  <tbody>\n",
              "    <tr>\n",
              "      <th>1</th>\n",
              "      <td>good morning my name is xxxx xxxx and i apprec...</td>\n",
              "      <td>good morning xxxx xxxx appreciate help stop ch...</td>\n",
              "      <td>morning help write chase debt verification sta...</td>\n",
              "    </tr>\n",
              "    <tr>\n",
              "      <th>2</th>\n",
              "      <td>i upgraded my xxxx xxxx card in and was told b...</td>\n",
              "      <td>upgrade xxxx xxxx card tell agent upgrade anni...</td>\n",
              "      <td>agent upgrade anniversary date change agent in...</td>\n",
              "    </tr>\n",
              "    <tr>\n",
              "      <th>10</th>\n",
              "      <td>chase card was reported on however fraudulent ...</td>\n",
              "      <td>chase card report fraudulent application submi...</td>\n",
              "      <td>chase card report application submit identity ...</td>\n",
              "    </tr>\n",
              "    <tr>\n",
              "      <th>11</th>\n",
              "      <td>on while trying to book a xxxx  xxxx  ticket i...</td>\n",
              "      <td>try book xxxx   xxxx   ticket come offer apply...</td>\n",
              "      <td>book ticket ticket reward card information off...</td>\n",
              "    </tr>\n",
              "    <tr>\n",
              "      <th>14</th>\n",
              "      <td>my grand son give me check for i deposit it in...</td>\n",
              "      <td>grand son check deposit chase account fund cle...</td>\n",
              "      <td>son deposit chase account account pay money sp...</td>\n",
              "    </tr>\n",
              "    <tr>\n",
              "      <th>...</th>\n",
              "      <td>...</td>\n",
              "      <td>...</td>\n",
              "      <td>...</td>\n",
              "    </tr>\n",
              "    <tr>\n",
              "      <th>78303</th>\n",
              "      <td>after being a chase card customer for well ove...</td>\n",
              "      <td>chase card customer decade offer multiple soli...</td>\n",
              "      <td>chase card customer decade solicitation credit...</td>\n",
              "    </tr>\n",
              "    <tr>\n",
              "      <th>78309</th>\n",
              "      <td>on wednesday xxxxxxxx i called chas my xxxx xx...</td>\n",
              "      <td>wednesday xxxxxxxx call chas xxxx xxxx visa cr...</td>\n",
              "      <td>credit card provider ask claim purchase protec...</td>\n",
              "    </tr>\n",
              "    <tr>\n",
              "      <th>78310</th>\n",
              "      <td>i am not familiar with xxxx pay and did not un...</td>\n",
              "      <td>familiar xxxx pay understand great risk provid...</td>\n",
              "      <td>pay risk consumer app chase year trust banking...</td>\n",
              "    </tr>\n",
              "    <tr>\n",
              "      <th>78311</th>\n",
              "      <td>i have had flawless credit for yrs ive had cha...</td>\n",
              "      <td>flawless credit yrs ve chase credit card   cha...</td>\n",
              "      <td>credit chase credit card chase freedom problem...</td>\n",
              "    </tr>\n",
              "    <tr>\n",
              "      <th>78312</th>\n",
              "      <td>roughly years ago i closed out my accounts wit...</td>\n",
              "      <td>roughly year ago close account jp morgan chase...</td>\n",
              "      <td>year account order line credit pay account pay...</td>\n",
              "    </tr>\n",
              "  </tbody>\n",
              "</table>\n",
              "<p>21072 rows × 3 columns</p>\n",
              "</div>\n",
              "      <button class=\"colab-df-convert\" onclick=\"convertToInteractive('df-e786ae71-298d-4893-adcc-cf266f46233b')\"\n",
              "              title=\"Convert this dataframe to an interactive table.\"\n",
              "              style=\"display:none;\">\n",
              "        \n",
              "  <svg xmlns=\"http://www.w3.org/2000/svg\" height=\"24px\"viewBox=\"0 0 24 24\"\n",
              "       width=\"24px\">\n",
              "    <path d=\"M0 0h24v24H0V0z\" fill=\"none\"/>\n",
              "    <path d=\"M18.56 5.44l.94 2.06.94-2.06 2.06-.94-2.06-.94-.94-2.06-.94 2.06-2.06.94zm-11 1L8.5 8.5l.94-2.06 2.06-.94-2.06-.94L8.5 2.5l-.94 2.06-2.06.94zm10 10l.94 2.06.94-2.06 2.06-.94-2.06-.94-.94-2.06-.94 2.06-2.06.94z\"/><path d=\"M17.41 7.96l-1.37-1.37c-.4-.4-.92-.59-1.43-.59-.52 0-1.04.2-1.43.59L10.3 9.45l-7.72 7.72c-.78.78-.78 2.05 0 2.83L4 21.41c.39.39.9.59 1.41.59.51 0 1.02-.2 1.41-.59l7.78-7.78 2.81-2.81c.8-.78.8-2.07 0-2.86zM5.41 20L4 18.59l7.72-7.72 1.47 1.35L5.41 20z\"/>\n",
              "  </svg>\n",
              "      </button>\n",
              "      \n",
              "  <style>\n",
              "    .colab-df-container {\n",
              "      display:flex;\n",
              "      flex-wrap:wrap;\n",
              "      gap: 12px;\n",
              "    }\n",
              "\n",
              "    .colab-df-convert {\n",
              "      background-color: #E8F0FE;\n",
              "      border: none;\n",
              "      border-radius: 50%;\n",
              "      cursor: pointer;\n",
              "      display: none;\n",
              "      fill: #1967D2;\n",
              "      height: 32px;\n",
              "      padding: 0 0 0 0;\n",
              "      width: 32px;\n",
              "    }\n",
              "\n",
              "    .colab-df-convert:hover {\n",
              "      background-color: #E2EBFA;\n",
              "      box-shadow: 0px 1px 2px rgba(60, 64, 67, 0.3), 0px 1px 3px 1px rgba(60, 64, 67, 0.15);\n",
              "      fill: #174EA6;\n",
              "    }\n",
              "\n",
              "    [theme=dark] .colab-df-convert {\n",
              "      background-color: #3B4455;\n",
              "      fill: #D2E3FC;\n",
              "    }\n",
              "\n",
              "    [theme=dark] .colab-df-convert:hover {\n",
              "      background-color: #434B5C;\n",
              "      box-shadow: 0px 1px 3px 1px rgba(0, 0, 0, 0.15);\n",
              "      filter: drop-shadow(0px 1px 2px rgba(0, 0, 0, 0.3));\n",
              "      fill: #FFFFFF;\n",
              "    }\n",
              "  </style>\n",
              "\n",
              "      <script>\n",
              "        const buttonEl =\n",
              "          document.querySelector('#df-e786ae71-298d-4893-adcc-cf266f46233b button.colab-df-convert');\n",
              "        buttonEl.style.display =\n",
              "          google.colab.kernel.accessAllowed ? 'block' : 'none';\n",
              "\n",
              "        async function convertToInteractive(key) {\n",
              "          const element = document.querySelector('#df-e786ae71-298d-4893-adcc-cf266f46233b');\n",
              "          const dataTable =\n",
              "            await google.colab.kernel.invokeFunction('convertToInteractive',\n",
              "                                                     [key], {});\n",
              "          if (!dataTable) return;\n",
              "\n",
              "          const docLinkHtml = 'Like what you see? Visit the ' +\n",
              "            '<a target=\"_blank\" href=https://colab.research.google.com/notebooks/data_table.ipynb>data table notebook</a>'\n",
              "            + ' to learn more about interactive tables.';\n",
              "          element.innerHTML = '';\n",
              "          dataTable['output_type'] = 'display_data';\n",
              "          await google.colab.output.renderOutput(dataTable, element);\n",
              "          const docLink = document.createElement('div');\n",
              "          docLink.innerHTML = docLinkHtml;\n",
              "          element.appendChild(docLink);\n",
              "        }\n",
              "      </script>\n",
              "    </div>\n",
              "  </div>\n",
              "  "
            ]
          },
          "metadata": {},
          "execution_count": 21
        }
      ],
      "source": [
        "#The clean dataframe should now contain the raw complaint, lemmatized complaint and the complaint after removing POS tags.\n",
        "df_clean"
      ]
    },
    {
      "cell_type": "markdown",
      "metadata": {
        "id": "_7Un1AElJrF2"
      },
      "source": [
        "## Exploratory data analysis to get familiar with the data.\n",
        "\n",
        "Write the code in this task to perform the following:\n",
        "\n",
        "*   Visualise the data according to the 'Complaint' character length\n",
        "*   Using a word cloud find the top 40 words by frequency among all the articles after processing the text\n",
        "*   Find the top unigrams,bigrams and trigrams by frequency among all the complaints after processing the text. ‘\n",
        "\n",
        "\n"
      ]
    },
    {
      "cell_type": "code",
      "execution_count": 25,
      "metadata": {
        "id": "q-zaqJF6JrF2",
        "colab": {
          "base_uri": "https://localhost:8080/",
          "height": 1000
        },
        "outputId": "a5bd5f93-dbf0-43d2-db61-d1282c6b5075"
      },
      "outputs": [
        {
          "output_type": "execute_result",
          "data": {
            "text/plain": [
              "(array([4.188e+03, 5.257e+03, 3.790e+03, 2.565e+03, 1.588e+03, 1.044e+03,\n",
              "        7.120e+02, 5.300e+02, 4.360e+02, 2.980e+02, 1.390e+02, 1.170e+02,\n",
              "        7.600e+01, 5.600e+01, 3.800e+01, 3.200e+01, 2.900e+01, 2.500e+01,\n",
              "        2.600e+01, 1.800e+01, 1.400e+01, 1.200e+01, 5.000e+00, 8.000e+00,\n",
              "        1.000e+00, 5.000e+00, 9.000e+00, 3.000e+00, 1.000e+01, 2.000e+00,\n",
              "        2.000e+00, 3.000e+00, 4.000e+00, 2.000e+00, 1.000e+00, 2.000e+00,\n",
              "        1.000e+00, 3.000e+00, 1.000e+00, 2.000e+00, 3.000e+00, 3.000e+00,\n",
              "        0.000e+00, 0.000e+00, 2.000e+00, 0.000e+00, 0.000e+00, 0.000e+00,\n",
              "        0.000e+00, 0.000e+00, 0.000e+00, 0.000e+00, 2.000e+00, 0.000e+00,\n",
              "        0.000e+00, 1.000e+00, 0.000e+00, 0.000e+00, 0.000e+00, 0.000e+00,\n",
              "        0.000e+00, 1.000e+00, 2.000e+00, 0.000e+00, 0.000e+00, 0.000e+00,\n",
              "        0.000e+00, 1.000e+00, 0.000e+00, 0.000e+00, 0.000e+00, 0.000e+00,\n",
              "        0.000e+00, 0.000e+00, 0.000e+00, 0.000e+00, 0.000e+00, 0.000e+00,\n",
              "        0.000e+00, 0.000e+00, 0.000e+00, 1.000e+00, 0.000e+00, 0.000e+00,\n",
              "        0.000e+00, 0.000e+00, 0.000e+00, 0.000e+00, 0.000e+00, 0.000e+00,\n",
              "        0.000e+00, 0.000e+00, 0.000e+00, 0.000e+00, 0.000e+00, 1.000e+00,\n",
              "        0.000e+00, 0.000e+00, 0.000e+00, 1.000e+00]),\n",
              " array([    0.  ,   118.22,   236.44,   354.66,   472.88,   591.1 ,\n",
              "          709.32,   827.54,   945.76,  1063.98,  1182.2 ,  1300.42,\n",
              "         1418.64,  1536.86,  1655.08,  1773.3 ,  1891.52,  2009.74,\n",
              "         2127.96,  2246.18,  2364.4 ,  2482.62,  2600.84,  2719.06,\n",
              "         2837.28,  2955.5 ,  3073.72,  3191.94,  3310.16,  3428.38,\n",
              "         3546.6 ,  3664.82,  3783.04,  3901.26,  4019.48,  4137.7 ,\n",
              "         4255.92,  4374.14,  4492.36,  4610.58,  4728.8 ,  4847.02,\n",
              "         4965.24,  5083.46,  5201.68,  5319.9 ,  5438.12,  5556.34,\n",
              "         5674.56,  5792.78,  5911.  ,  6029.22,  6147.44,  6265.66,\n",
              "         6383.88,  6502.1 ,  6620.32,  6738.54,  6856.76,  6974.98,\n",
              "         7093.2 ,  7211.42,  7329.64,  7447.86,  7566.08,  7684.3 ,\n",
              "         7802.52,  7920.74,  8038.96,  8157.18,  8275.4 ,  8393.62,\n",
              "         8511.84,  8630.06,  8748.28,  8866.5 ,  8984.72,  9102.94,\n",
              "         9221.16,  9339.38,  9457.6 ,  9575.82,  9694.04,  9812.26,\n",
              "         9930.48, 10048.7 , 10166.92, 10285.14, 10403.36, 10521.58,\n",
              "        10639.8 , 10758.02, 10876.24, 10994.46, 11112.68, 11230.9 ,\n",
              "        11349.12, 11467.34, 11585.56, 11703.78, 11822.  ]),\n",
              " <a list of 100 Patch objects>)"
            ]
          },
          "metadata": {},
          "execution_count": 25
        },
        {
          "output_type": "display_data",
          "data": {
            "text/plain": [
              "<Figure size 720x432 with 1 Axes>"
            ],
            "image/png": "[encoded data removed]"
          },
          "metadata": {
            "needs_background": "light"
          }
        },
        {
          "output_type": "display_data",
          "data": {
            "text/plain": [
              "<Figure size 720x432 with 1 Axes>"
            ],
            "image/png": "[encoded data removed]"
          },
          "metadata": {
            "needs_background": "light"
          }
        },
        {
          "output_type": "display_data",
          "data": {
            "text/plain": [
              "<Figure size 720x432 with 1 Axes>"
            ],
            "image/png": "[encoded data removed]"
          },
          "metadata": {
            "needs_background": "light"
          }
        }
      ],
      "source": [
        "# Write your code here to visualise the data according to the 'Complaint' character length\n",
        "plt.figure(figsize=(10,6))\n",
        "doc_lens = [len(d) for d in df_clean.complaint_text]\n",
        "\n",
        "plt.xlabel('Complaint Text Length',size=20)\n",
        "plt.ylabel('No. of Complaints',size=20)\n",
        "plt.hist(doc_lens, bins = 100)\n",
        "\n",
        "plt.figure(figsize=(10,6))\n",
        "doc_lens = [len(d) for d in df_clean.lemmatized_complaint]\n",
        "\n",
        "plt.xlabel('Complaint Lemmatized Text Length',size=20)\n",
        "plt.ylabel('No. of Complaints',size=20)\n",
        "plt.hist(doc_lens, bins = 100)\n",
        "\n",
        "plt.figure(figsize=(10,6))\n",
        "doc_lens = [len(d) for d in df_clean.complaint_POS_removed]\n",
        "\n",
        "plt.xlabel('Complaint Lemmatized POS removed Text Length',size=20)\n",
        "plt.ylabel('No. of Complaints',size=20)\n",
        "plt.hist(doc_lens, bins = 100)"
      ]
    },
    {
      "cell_type": "code",
      "execution_count": 26,
      "metadata": {
        "id": "i32bSs3p-v5k",
        "colab": {
          "base_uri": "https://localhost:8080/"
        },
        "outputId": "a57894c3-abda-4711-e4de-8c2e3b46433d"
      },
      "outputs": [
        {
          "output_type": "stream",
          "name": "stdout",
          "text": [
            "Looking in indexes: https://pypi.org/simple, https://us-python.pkg.dev/colab-wheels/public/simple/\n",
            "Requirement already satisfied: wordcloud in /usr/local/lib/python3.8/dist-packages (1.8.2.2)\n",
            "Requirement already satisfied: matplotlib in /usr/local/lib/python3.8/dist-packages (from wordcloud) (3.2.2)\n",
            "Requirement already satisfied: numpy>=1.6.1 in /usr/local/lib/python3.8/dist-packages (from wordcloud) (1.21.6)\n",
            "Requirement already satisfied: pillow in /usr/local/lib/python3.8/dist-packages (from wordcloud) (7.1.2)\n",
            "Requirement already satisfied: cycler>=0.10 in /usr/local/lib/python3.8/dist-packages (from matplotlib->wordcloud) (0.11.0)\n",
            "Requirement already satisfied: pyparsing!=2.0.4,!=2.1.2,!=2.1.6,>=2.0.1 in /usr/local/lib/python3.8/dist-packages (from matplotlib->wordcloud) (3.0.9)\n",
            "Requirement already satisfied: kiwisolver>=1.0.1 in /usr/local/lib/python3.8/dist-packages (from matplotlib->wordcloud) (1.4.4)\n",
            "Requirement already satisfied: python-dateutil>=2.1 in /usr/local/lib/python3.8/dist-packages (from matplotlib->wordcloud) (2.8.2)\n",
            "Requirement already satisfied: six>=1.5 in /usr/local/lib/python3.8/dist-packages (from python-dateutil>=2.1->matplotlib->wordcloud) (1.15.0)\n"
          ]
        }
      ],
      "source": [
        "!pip install wordcloud"
      ]
    },
    {
      "cell_type": "markdown",
      "metadata": {
        "id": "T9jD_6SeJrF3"
      },
      "source": [
        "#### Find the top 40 words by frequency among all the articles after processing the text."
      ]
    },
    {
      "cell_type": "code",
      "execution_count": 27,
      "metadata": {
        "id": "QcfdvtfZJrF3",
        "colab": {
          "base_uri": "https://localhost:8080/",
          "height": 948
        },
        "outputId": "9e9b1a62-9d40-4e5a-f1ee-9b0c92e40f7c"
      },
      "outputs": [
        {
          "output_type": "stream",
          "name": "stdout",
          "text": [
            "<wordcloud.wordcloud.WordCloud object at 0x7f5f9afa8610>\n"
          ]
        },
        {
          "output_type": "display_data",
          "data": {
            "text/plain": [
              "<Figure size 720x432 with 1 Axes>"
            ],
            "image/png": "[encoded data removed]"
          },
          "metadata": {
            "needs_background": "light"
          }
        },
        {
          "output_type": "stream",
          "name": "stdout",
          "text": [
            "<wordcloud.wordcloud.WordCloud object at 0x7f5f9acdad90>\n"
          ]
        },
        {
          "output_type": "display_data",
          "data": {
            "text/plain": [
              "<Figure size 720x432 with 1 Axes>"
            ],
            "image/png": "[encoded data removed]"
          },
          "metadata": {
            "needs_background": "light"
          }
        },
        {
          "output_type": "stream",
          "name": "stdout",
          "text": [
            "<wordcloud.wordcloud.WordCloud object at 0x7f5f97705be0>\n"
          ]
        },
        {
          "output_type": "display_data",
          "data": {
            "text/plain": [
              "<Figure size 720x432 with 1 Axes>"
            ],
            "image/png": "[encoded data removed]"
          },
          "metadata": {
            "needs_background": "light"
          }
        }
      ],
      "source": [
        "#Using a word cloud find the top 40 words by frequency among all the articles after processing the text\n",
        "\n",
        "from wordcloud import WordCloud\n",
        "\n",
        "wordcloud = WordCloud(stopwords=stopwords,max_words=40).generate(str(df_clean.complaint_text))\n",
        "\n",
        "print(wordcloud)\n",
        "plt.figure(figsize=(10,6))\n",
        "plt.imshow(wordcloud)\n",
        "plt.axis('off')\n",
        "plt.show()\n",
        "\n",
        "wordcloud = WordCloud(stopwords=stopwords,max_words=40).generate(str(df_clean.lemmatized_complaint))\n",
        "\n",
        "print(wordcloud)\n",
        "plt.figure(figsize=(10,6))\n",
        "plt.imshow(wordcloud)\n",
        "plt.axis('off')\n",
        "plt.show()\n",
        "\n",
        "wordcloud = WordCloud(stopwords=stopwords,max_words=40).generate(str(df_clean.complaint_POS_removed))\n",
        "\n",
        "print(wordcloud)\n",
        "plt.figure(figsize=(10,6))\n",
        "plt.imshow(wordcloud)\n",
        "plt.axis('off')\n",
        "plt.show()"
      ]
    },
    {
      "cell_type": "code",
      "execution_count": 30,
      "metadata": {
        "id": "OkSmc3UaJrF4",
        "colab": {
          "base_uri": "https://localhost:8080/",
          "height": 250
        },
        "outputId": "e6602d7b-3cac-4eac-b8a8-4ff6f1b99f49"
      },
      "outputs": [
        {
          "output_type": "execute_result",
          "data": {
            "text/plain": [
              "                                       complaint_text  \\\n",
              "1   good morning my name is xxxx xxxx and i apprec...   \n",
              "2   i upgraded my xxxx xxxx card in and was told b...   \n",
              "10  chase card was reported on however fraudulent ...   \n",
              "11  on while trying to book a xxxx  xxxx  ticket i...   \n",
              "14  my grand son give me check for i deposit it in...   \n",
              "\n",
              "                                 lemmatized_complaint  \\\n",
              "1   good morning xxxx xxxx appreciate help stop ch...   \n",
              "2   upgrade xxxx xxxx card tell agent upgrade anni...   \n",
              "10  chase card report fraudulent application submi...   \n",
              "11  try book xxxx   xxxx   ticket come offer apply...   \n",
              "14  grand son check deposit chase account fund cle...   \n",
              "\n",
              "                                complaint_POS_removed  \\\n",
              "1   morning help write chase debt verification sta...   \n",
              "2   agent upgrade anniversary date change agent in...   \n",
              "10  chase card report application submit identity ...   \n",
              "11  book ticket ticket reward card information off...   \n",
              "14  son deposit chase account account pay money sp...   \n",
              "\n",
              "                                      Complaint_clean  \n",
              "1   morning help write chase debt verification sta...  \n",
              "2   agent upgrade anniversary date change agent in...  \n",
              "10  chase card report application submit identity ...  \n",
              "11  book ticket ticket reward card information off...  \n",
              "14  son deposit chase account account pay money sp...  "
            ],
            "text/html": [
              "\n",
              "  <div id=\"df-0eac0408-a910-4659-ad3f-ede05a9dc1e1\">\n",
              "    <div class=\"colab-df-container\">\n",
              "      <div>\n",
              "<style scoped>\n",
              "    .dataframe tbody tr th:only-of-type {\n",
              "        vertical-align: middle;\n",
              "    }\n",
              "\n",
              "    .dataframe tbody tr th {\n",
              "        vertical-align: top;\n",
              "    }\n",
              "\n",
              "    .dataframe thead th {\n",
              "        text-align: right;\n",
              "    }\n",
              "</style>\n",
              "<table border=\"1\" class=\"dataframe\">\n",
              "  <thead>\n",
              "    <tr style=\"text-align: right;\">\n",
              "      <th></th>\n",
              "      <th>complaint_text</th>\n",
              "      <th>lemmatized_complaint</th>\n",
              "      <th>complaint_POS_removed</th>\n",
              "      <th>Complaint_clean</th>\n",
              "    </tr>\n",
              "  </thead>\n",
              "  <tbody>\n",
              "    <tr>\n",
              "      <th>1</th>\n",
              "      <td>good morning my name is xxxx xxxx and i apprec...</td>\n",
              "      <td>good morning xxxx xxxx appreciate help stop ch...</td>\n",
              "      <td>morning help write chase debt verification sta...</td>\n",
              "      <td>morning help write chase debt verification sta...</td>\n",
              "    </tr>\n",
              "    <tr>\n",
              "      <th>2</th>\n",
              "      <td>i upgraded my xxxx xxxx card in and was told b...</td>\n",
              "      <td>upgrade xxxx xxxx card tell agent upgrade anni...</td>\n",
              "      <td>agent upgrade anniversary date change agent in...</td>\n",
              "      <td>agent upgrade anniversary date change agent in...</td>\n",
              "    </tr>\n",
              "    <tr>\n",
              "      <th>10</th>\n",
              "      <td>chase card was reported on however fraudulent ...</td>\n",
              "      <td>chase card report fraudulent application submi...</td>\n",
              "      <td>chase card report application submit identity ...</td>\n",
              "      <td>chase card report application submit identity ...</td>\n",
              "    </tr>\n",
              "    <tr>\n",
              "      <th>11</th>\n",
              "      <td>on while trying to book a xxxx  xxxx  ticket i...</td>\n",
              "      <td>try book xxxx   xxxx   ticket come offer apply...</td>\n",
              "      <td>book ticket ticket reward card information off...</td>\n",
              "      <td>book ticket ticket reward card information off...</td>\n",
              "    </tr>\n",
              "    <tr>\n",
              "      <th>14</th>\n",
              "      <td>my grand son give me check for i deposit it in...</td>\n",
              "      <td>grand son check deposit chase account fund cle...</td>\n",
              "      <td>son deposit chase account account pay money sp...</td>\n",
              "      <td>son deposit chase account account pay money sp...</td>\n",
              "    </tr>\n",
              "  </tbody>\n",
              "</table>\n",
              "</div>\n",
              "      <button class=\"colab-df-convert\" onclick=\"convertToInteractive('df-0eac0408-a910-4659-ad3f-ede05a9dc1e1')\"\n",
              "              title=\"Convert this dataframe to an interactive table.\"\n",
              "              style=\"display:none;\">\n",
              "        \n",
              "  <svg xmlns=\"http://www.w3.org/2000/svg\" height=\"24px\"viewBox=\"0 0 24 24\"\n",
              "       width=\"24px\">\n",
              "    <path d=\"M0 0h24v24H0V0z\" fill=\"none\"/>\n",
              "    <path d=\"M18.56 5.44l.94 2.06.94-2.06 2.06-.94-2.06-.94-.94-2.06-.94 2.06-2.06.94zm-11 1L8.5 8.5l.94-2.06 2.06-.94-2.06-.94L8.5 2.5l-.94 2.06-2.06.94zm10 10l.94 2.06.94-2.06 2.06-.94-2.06-.94-.94-2.06-.94 2.06-2.06.94z\"/><path d=\"M17.41 7.96l-1.37-1.37c-.4-.4-.92-.59-1.43-.59-.52 0-1.04.2-1.43.59L10.3 9.45l-7.72 7.72c-.78.78-.78 2.05 0 2.83L4 21.41c.39.39.9.59 1.41.59.51 0 1.02-.2 1.41-.59l7.78-7.78 2.81-2.81c.8-.78.8-2.07 0-2.86zM5.41 20L4 18.59l7.72-7.72 1.47 1.35L5.41 20z\"/>\n",
              "  </svg>\n",
              "      </button>\n",
              "      \n",
              "  <style>\n",
              "    .colab-df-container {\n",
              "      display:flex;\n",
              "      flex-wrap:wrap;\n",
              "      gap: 12px;\n",
              "    }\n",
              "\n",
              "    .colab-df-convert {\n",
              "      background-color: #E8F0FE;\n",
              "      border: none;\n",
              "      border-radius: 50%;\n",
              "      cursor: pointer;\n",
              "      display: none;\n",
              "      fill: #1967D2;\n",
              "      height: 32px;\n",
              "      padding: 0 0 0 0;\n",
              "      width: 32px;\n",
              "    }\n",
              "\n",
              "    .colab-df-convert:hover {\n",
              "      background-color: #E2EBFA;\n",
              "      box-shadow: 0px 1px 2px rgba(60, 64, 67, 0.3), 0px 1px 3px 1px rgba(60, 64, 67, 0.15);\n",
              "      fill: #174EA6;\n",
              "    }\n",
              "\n",
              "    [theme=dark] .colab-df-convert {\n",
              "      background-color: #3B4455;\n",
              "      fill: #D2E3FC;\n",
              "    }\n",
              "\n",
              "    [theme=dark] .colab-df-convert:hover {\n",
              "      background-color: #434B5C;\n",
              "      box-shadow: 0px 1px 3px 1px rgba(0, 0, 0, 0.15);\n",
              "      filter: drop-shadow(0px 1px 2px rgba(0, 0, 0, 0.3));\n",
              "      fill: #FFFFFF;\n",
              "    }\n",
              "  </style>\n",
              "\n",
              "      <script>\n",
              "        const buttonEl =\n",
              "          document.querySelector('#df-0eac0408-a910-4659-ad3f-ede05a9dc1e1 button.colab-df-convert');\n",
              "        buttonEl.style.display =\n",
              "          google.colab.kernel.accessAllowed ? 'block' : 'none';\n",
              "\n",
              "        async function convertToInteractive(key) {\n",
              "          const element = document.querySelector('#df-0eac0408-a910-4659-ad3f-ede05a9dc1e1');\n",
              "          const dataTable =\n",
              "            await google.colab.kernel.invokeFunction('convertToInteractive',\n",
              "                                                     [key], {});\n",
              "          if (!dataTable) return;\n",
              "\n",
              "          const docLinkHtml = 'Like what you see? Visit the ' +\n",
              "            '<a target=\"_blank\" href=https://colab.research.google.com/notebooks/data_table.ipynb>data table notebook</a>'\n",
              "            + ' to learn more about interactive tables.';\n",
              "          element.innerHTML = '';\n",
              "          dataTable['output_type'] = 'display_data';\n",
              "          await google.colab.output.renderOutput(dataTable, element);\n",
              "          const docLink = document.createElement('div');\n",
              "          docLink.innerHTML = docLinkHtml;\n",
              "          element.appendChild(docLink);\n",
              "        }\n",
              "      </script>\n",
              "    </div>\n",
              "  </div>\n",
              "  "
            ]
          },
          "metadata": {},
          "execution_count": 30
        }
      ],
      "source": [
        "#Removing -PRON- from the text corpus\n",
        "df_clean['Complaint_clean'] = df_clean['complaint_POS_removed'].str.replace('-PRON-', '')\n",
        "df_clean.head()"
      ]
    },
    {
      "cell_type": "code",
      "source": [
        "# Top n bigram function\n",
        "\n",
        "def get_top_n_bigram(text, ngram=1, top=None):\n",
        "    vec = CountVectorizer(ngram_range=(ngram, ngram), stop_words='english').fit(text)\n",
        "    bag_of_words = vec.transform(text)\n",
        "\n",
        "    sum_words = bag_of_words.sum(axis=0) \n",
        "    words_freq = [(word, sum_words[0, idx]) for word, idx in vec.vocabulary_.items()]\n",
        "\n",
        "    words_freq =sorted(words_freq, key = lambda x: x[1], reverse=True)\n",
        "    return words_freq[:top]"
      ],
      "metadata": {
        "id": "zNXUz2eAIIMr"
      },
      "execution_count": 31,
      "outputs": []
    },
    {
      "cell_type": "markdown",
      "metadata": {
        "id": "5DfCSbbmJrF4"
      },
      "source": [
        "#### Find the top unigrams,bigrams and trigrams by frequency among all the complaints after processing the text."
      ]
    },
    {
      "cell_type": "code",
      "execution_count": 34,
      "metadata": {
        "id": "5mbk5DS5JrF4"
      },
      "outputs": [],
      "source": [
        "#Write your code here to find the top 30 unigram frequency among the complaints in the cleaned datafram(df_clean). \n",
        "top_30_unigrams = get_top_n_bigram(df_clean.Complaint_clean,ngram=1, top=30)"
      ]
    },
    {
      "cell_type": "code",
      "execution_count": 35,
      "metadata": {
        "id": "YX7fedm1JrF8",
        "colab": {
          "base_uri": "https://localhost:8080/"
        },
        "outputId": "898d1bdf-316c-43ca-a267-77a8f8b5fa2d"
      },
      "outputs": [
        {
          "output_type": "stream",
          "name": "stdout",
          "text": [
            "Top 10 unigrams: \n"
          ]
        },
        {
          "output_type": "execute_result",
          "data": {
            "text/plain": [
              "[('chase', 55396),\n",
              " ('account', 39603),\n",
              " ('credit', 32425),\n",
              " ('card', 29043),\n",
              " ('payment', 20181),\n",
              " ('charge', 16501),\n",
              " ('time', 15214),\n",
              " ('money', 11665),\n",
              " ('day', 11643),\n",
              " ('bank', 11139)]"
            ]
          },
          "metadata": {},
          "execution_count": 35
        }
      ],
      "source": [
        "#Print the top 10 words in the unigram frequency\n",
        "print('Top 10 unigrams: ')\n",
        "top_30_unigrams[:10]"
      ]
    },
    {
      "cell_type": "code",
      "execution_count": 36,
      "metadata": {
        "id": "aV7kD7w8JrF8"
      },
      "outputs": [],
      "source": [
        "#Write your code here to find the top 30 bigram frequency among the complaints in the cleaned datafram(df_clean). \n",
        "top_30_bigrams = get_top_n_bigram(df_clean.Complaint_clean,ngram=2, top=30)"
      ]
    },
    {
      "cell_type": "code",
      "execution_count": 37,
      "metadata": {
        "id": "NPnMNIpyJrF9",
        "colab": {
          "base_uri": "https://localhost:8080/"
        },
        "outputId": "de706cb4-bcb8-44e6-f96e-5f06ca4932dc"
      },
      "outputs": [
        {
          "output_type": "stream",
          "name": "stdout",
          "text": [
            "Top 10 bigrams: \n"
          ]
        },
        {
          "output_type": "execute_result",
          "data": {
            "text/plain": [
              "[('credit card', 12171),\n",
              " ('credit report', 3618),\n",
              " ('chase credit', 3135),\n",
              " ('customer service', 2714),\n",
              " ('account chase', 2657),\n",
              " ('chase account', 2181),\n",
              " ('contact chase', 1931),\n",
              " ('debit card', 1909),\n",
              " ('account account', 1837),\n",
              " ('chase bank', 1770)]"
            ]
          },
          "metadata": {},
          "execution_count": 37
        }
      ],
      "source": [
        "#Print the top 10 words in the bigram frequency\n",
        "print('Top 10 bigrams: ')\n",
        "top_30_bigrams[:10]"
      ]
    },
    {
      "cell_type": "code",
      "execution_count": 38,
      "metadata": {
        "id": "Xkh7vtbtJrF-"
      },
      "outputs": [],
      "source": [
        "#Write your code here to find the top 30 trigram frequency among the complaints in the cleaned datafram(df_clean). \n",
        "top_30_trigrams = get_top_n_bigram(df_clean.Complaint_clean,ngram=3, top=30)"
      ]
    },
    {
      "cell_type": "code",
      "execution_count": 39,
      "metadata": {
        "id": "REcVxNfvJrF-",
        "colab": {
          "base_uri": "https://localhost:8080/"
        },
        "outputId": "41843e67-75d4-4c19-cc45-5deb13d5b4ef"
      },
      "outputs": [
        {
          "output_type": "stream",
          "name": "stdout",
          "text": [
            "Top 10 trigrams: \n"
          ]
        },
        {
          "output_type": "execute_result",
          "data": {
            "text/plain": [
              "[('chase credit card', 2159),\n",
              " ('credit card account', 986),\n",
              " ('credit card company', 958),\n",
              " ('credit card chase', 815),\n",
              " ('chase customer service', 509),\n",
              " ('charge credit card', 495),\n",
              " ('inquiry credit report', 456),\n",
              " ('credit card credit', 454),\n",
              " ('account credit card', 358),\n",
              " ('credit card charge', 356)]"
            ]
          },
          "metadata": {},
          "execution_count": 39
        }
      ],
      "source": [
        "#Print the top 10 words in the trigram frequency\n",
        "print('Top 10 trigrams: ')\n",
        "top_30_trigrams[:10]"
      ]
    },
    {
      "cell_type": "markdown",
      "metadata": {
        "id": "yUXzFji0JrF_"
      },
      "source": [
        "## The personal details of customer has been masked in the dataset with xxxx. Let's remove the masked text as this will be of no use for our analysis"
      ]
    },
    {
      "cell_type": "code",
      "execution_count": 40,
      "metadata": {
        "id": "wKda-a_IJrF_"
      },
      "outputs": [],
      "source": [
        "df_clean['Complaint_clean'] = df_clean['Complaint_clean'].str.replace('xxxx','')"
      ]
    },
    {
      "cell_type": "code",
      "execution_count": 41,
      "metadata": {
        "id": "9UIFk8fQJrF_",
        "colab": {
          "base_uri": "https://localhost:8080/",
          "height": 520
        },
        "outputId": "cbe0d86c-99b6-410d-92f9-1f3c0876e592"
      },
      "outputs": [
        {
          "output_type": "execute_result",
          "data": {
            "text/plain": [
              "                                          complaint_text  \\\n",
              "1      good morning my name is xxxx xxxx and i apprec...   \n",
              "2      i upgraded my xxxx xxxx card in and was told b...   \n",
              "10     chase card was reported on however fraudulent ...   \n",
              "11     on while trying to book a xxxx  xxxx  ticket i...   \n",
              "14     my grand son give me check for i deposit it in...   \n",
              "...                                                  ...   \n",
              "78303  after being a chase card customer for well ove...   \n",
              "78309  on wednesday xxxxxxxx i called chas my xxxx xx...   \n",
              "78310  i am not familiar with xxxx pay and did not un...   \n",
              "78311  i have had flawless credit for yrs ive had cha...   \n",
              "78312  roughly years ago i closed out my accounts wit...   \n",
              "\n",
              "                                    lemmatized_complaint  \\\n",
              "1      good morning xxxx xxxx appreciate help stop ch...   \n",
              "2      upgrade xxxx xxxx card tell agent upgrade anni...   \n",
              "10     chase card report fraudulent application submi...   \n",
              "11     try book xxxx   xxxx   ticket come offer apply...   \n",
              "14     grand son check deposit chase account fund cle...   \n",
              "...                                                  ...   \n",
              "78303  chase card customer decade offer multiple soli...   \n",
              "78309  wednesday xxxxxxxx call chas xxxx xxxx visa cr...   \n",
              "78310  familiar xxxx pay understand great risk provid...   \n",
              "78311  flawless credit yrs ve chase credit card   cha...   \n",
              "78312  roughly year ago close account jp morgan chase...   \n",
              "\n",
              "                                   complaint_POS_removed  \\\n",
              "1      morning help write chase debt verification sta...   \n",
              "2      agent upgrade anniversary date change agent in...   \n",
              "10     chase card report application submit identity ...   \n",
              "11     book ticket ticket reward card information off...   \n",
              "14     son deposit chase account account pay money sp...   \n",
              "...                                                  ...   \n",
              "78303  chase card customer decade solicitation credit...   \n",
              "78309  credit card provider ask claim purchase protec...   \n",
              "78310  pay risk consumer app chase year trust banking...   \n",
              "78311  credit chase credit card chase freedom problem...   \n",
              "78312  year account order line credit pay account pay...   \n",
              "\n",
              "                                         Complaint_clean  \n",
              "1      morning help write chase debt verification sta...  \n",
              "2      agent upgrade anniversary date change agent in...  \n",
              "10     chase card report application submit identity ...  \n",
              "11     book ticket ticket reward card information off...  \n",
              "14     son deposit chase account account pay money sp...  \n",
              "...                                                  ...  \n",
              "78303  chase card customer decade solicitation credit...  \n",
              "78309  credit card provider ask claim purchase protec...  \n",
              "78310  pay risk consumer app chase year trust banking...  \n",
              "78311  credit chase credit card chase freedom problem...  \n",
              "78312  year account order line credit pay account pay...  \n",
              "\n",
              "[21072 rows x 4 columns]"
            ],
            "text/html": [
              "\n",
              "  <div id=\"df-3dfa77c2-ea18-4c62-9e7c-9d1224700fce\">\n",
              "    <div class=\"colab-df-container\">\n",
              "      <div>\n",
              "<style scoped>\n",
              "    .dataframe tbody tr th:only-of-type {\n",
              "        vertical-align: middle;\n",
              "    }\n",
              "\n",
              "    .dataframe tbody tr th {\n",
              "        vertical-align: top;\n",
              "    }\n",
              "\n",
              "    .dataframe thead th {\n",
              "        text-align: right;\n",
              "    }\n",
              "</style>\n",
              "<table border=\"1\" class=\"dataframe\">\n",
              "  <thead>\n",
              "    <tr style=\"text-align: right;\">\n",
              "      <th></th>\n",
              "      <th>complaint_text</th>\n",
              "      <th>lemmatized_complaint</th>\n",
              "      <th>complaint_POS_removed</th>\n",
              "      <th>Complaint_clean</th>\n",
              "    </tr>\n",
              "  </thead>\n",
              "  <tbody>\n",
              "    <tr>\n",
              "      <th>1</th>\n",
              "      <td>good morning my name is xxxx xxxx and i apprec...</td>\n",
              "      <td>good morning xxxx xxxx appreciate help stop ch...</td>\n",
              "      <td>morning help write chase debt verification sta...</td>\n",
              "      <td>morning help write chase debt verification sta...</td>\n",
              "    </tr>\n",
              "    <tr>\n",
              "      <th>2</th>\n",
              "      <td>i upgraded my xxxx xxxx card in and was told b...</td>\n",
              "      <td>upgrade xxxx xxxx card tell agent upgrade anni...</td>\n",
              "      <td>agent upgrade anniversary date change agent in...</td>\n",
              "      <td>agent upgrade anniversary date change agent in...</td>\n",
              "    </tr>\n",
              "    <tr>\n",
              "      <th>10</th>\n",
              "      <td>chase card was reported on however fraudulent ...</td>\n",
              "      <td>chase card report fraudulent application submi...</td>\n",
              "      <td>chase card report application submit identity ...</td>\n",
              "      <td>chase card report application submit identity ...</td>\n",
              "    </tr>\n",
              "    <tr>\n",
              "      <th>11</th>\n",
              "      <td>on while trying to book a xxxx  xxxx  ticket i...</td>\n",
              "      <td>try book xxxx   xxxx   ticket come offer apply...</td>\n",
              "      <td>book ticket ticket reward card information off...</td>\n",
              "      <td>book ticket ticket reward card information off...</td>\n",
              "    </tr>\n",
              "    <tr>\n",
              "      <th>14</th>\n",
              "      <td>my grand son give me check for i deposit it in...</td>\n",
              "      <td>grand son check deposit chase account fund cle...</td>\n",
              "      <td>son deposit chase account account pay money sp...</td>\n",
              "      <td>son deposit chase account account pay money sp...</td>\n",
              "    </tr>\n",
              "    <tr>\n",
              "      <th>...</th>\n",
              "      <td>...</td>\n",
              "      <td>...</td>\n",
              "      <td>...</td>\n",
              "      <td>...</td>\n",
              "    </tr>\n",
              "    <tr>\n",
              "      <th>78303</th>\n",
              "      <td>after being a chase card customer for well ove...</td>\n",
              "      <td>chase card customer decade offer multiple soli...</td>\n",
              "      <td>chase card customer decade solicitation credit...</td>\n",
              "      <td>chase card customer decade solicitation credit...</td>\n",
              "    </tr>\n",
              "    <tr>\n",
              "      <th>78309</th>\n",
              "      <td>on wednesday xxxxxxxx i called chas my xxxx xx...</td>\n",
              "      <td>wednesday xxxxxxxx call chas xxxx xxxx visa cr...</td>\n",
              "      <td>credit card provider ask claim purchase protec...</td>\n",
              "      <td>credit card provider ask claim purchase protec...</td>\n",
              "    </tr>\n",
              "    <tr>\n",
              "      <th>78310</th>\n",
              "      <td>i am not familiar with xxxx pay and did not un...</td>\n",
              "      <td>familiar xxxx pay understand great risk provid...</td>\n",
              "      <td>pay risk consumer app chase year trust banking...</td>\n",
              "      <td>pay risk consumer app chase year trust banking...</td>\n",
              "    </tr>\n",
              "    <tr>\n",
              "      <th>78311</th>\n",
              "      <td>i have had flawless credit for yrs ive had cha...</td>\n",
              "      <td>flawless credit yrs ve chase credit card   cha...</td>\n",
              "      <td>credit chase credit card chase freedom problem...</td>\n",
              "      <td>credit chase credit card chase freedom problem...</td>\n",
              "    </tr>\n",
              "    <tr>\n",
              "      <th>78312</th>\n",
              "      <td>roughly years ago i closed out my accounts wit...</td>\n",
              "      <td>roughly year ago close account jp morgan chase...</td>\n",
              "      <td>year account order line credit pay account pay...</td>\n",
              "      <td>year account order line credit pay account pay...</td>\n",
              "    </tr>\n",
              "  </tbody>\n",
              "</table>\n",
              "<p>21072 rows × 4 columns</p>\n",
              "</div>\n",
              "      <button class=\"colab-df-convert\" onclick=\"convertToInteractive('df-3dfa77c2-ea18-4c62-9e7c-9d1224700fce')\"\n",
              "              title=\"Convert this dataframe to an interactive table.\"\n",
              "              style=\"display:none;\">\n",
              "        \n",
              "  <svg xmlns=\"http://www.w3.org/2000/svg\" height=\"24px\"viewBox=\"0 0 24 24\"\n",
              "       width=\"24px\">\n",
              "    <path d=\"M0 0h24v24H0V0z\" fill=\"none\"/>\n",
              "    <path d=\"M18.56 5.44l.94 2.06.94-2.06 2.06-.94-2.06-.94-.94-2.06-.94 2.06-2.06.94zm-11 1L8.5 8.5l.94-2.06 2.06-.94-2.06-.94L8.5 2.5l-.94 2.06-2.06.94zm10 10l.94 2.06.94-2.06 2.06-.94-2.06-.94-.94-2.06-.94 2.06-2.06.94z\"/><path d=\"M17.41 7.96l-1.37-1.37c-.4-.4-.92-.59-1.43-.59-.52 0-1.04.2-1.43.59L10.3 9.45l-7.72 7.72c-.78.78-.78 2.05 0 2.83L4 21.41c.39.39.9.59 1.41.59.51 0 1.02-.2 1.41-.59l7.78-7.78 2.81-2.81c.8-.78.8-2.07 0-2.86zM5.41 20L4 18.59l7.72-7.72 1.47 1.35L5.41 20z\"/>\n",
              "  </svg>\n",
              "      </button>\n",
              "      \n",
              "  <style>\n",
              "    .colab-df-container {\n",
              "      display:flex;\n",
              "      flex-wrap:wrap;\n",
              "      gap: 12px;\n",
              "    }\n",
              "\n",
              "    .colab-df-convert {\n",
              "      background-color: #E8F0FE;\n",
              "      border: none;\n",
              "      border-radius: 50%;\n",
              "      cursor: pointer;\n",
              "      display: none;\n",
              "      fill: #1967D2;\n",
              "      height: 32px;\n",
              "      padding: 0 0 0 0;\n",
              "      width: 32px;\n",
              "    }\n",
              "\n",
              "    .colab-df-convert:hover {\n",
              "      background-color: #E2EBFA;\n",
              "      box-shadow: 0px 1px 2px rgba(60, 64, 67, 0.3), 0px 1px 3px 1px rgba(60, 64, 67, 0.15);\n",
              "      fill: #174EA6;\n",
              "    }\n",
              "\n",
              "    [theme=dark] .colab-df-convert {\n",
              "      background-color: #3B4455;\n",
              "      fill: #D2E3FC;\n",
              "    }\n",
              "\n",
              "    [theme=dark] .colab-df-convert:hover {\n",
              "      background-color: #434B5C;\n",
              "      box-shadow: 0px 1px 3px 1px rgba(0, 0, 0, 0.15);\n",
              "      filter: drop-shadow(0px 1px 2px rgba(0, 0, 0, 0.3));\n",
              "      fill: #FFFFFF;\n",
              "    }\n",
              "  </style>\n",
              "\n",
              "      <script>\n",
              "        const buttonEl =\n",
              "          document.querySelector('#df-3dfa77c2-ea18-4c62-9e7c-9d1224700fce button.colab-df-convert');\n",
              "        buttonEl.style.display =\n",
              "          google.colab.kernel.accessAllowed ? 'block' : 'none';\n",
              "\n",
              "        async function convertToInteractive(key) {\n",
              "          const element = document.querySelector('#df-3dfa77c2-ea18-4c62-9e7c-9d1224700fce');\n",
              "          const dataTable =\n",
              "            await google.colab.kernel.invokeFunction('convertToInteractive',\n",
              "                                                     [key], {});\n",
              "          if (!dataTable) return;\n",
              "\n",
              "          const docLinkHtml = 'Like what you see? Visit the ' +\n",
              "            '<a target=\"_blank\" href=https://colab.research.google.com/notebooks/data_table.ipynb>data table notebook</a>'\n",
              "            + ' to learn more about interactive tables.';\n",
              "          element.innerHTML = '';\n",
              "          dataTable['output_type'] = 'display_data';\n",
              "          await google.colab.output.renderOutput(dataTable, element);\n",
              "          const docLink = document.createElement('div');\n",
              "          docLink.innerHTML = docLinkHtml;\n",
              "          element.appendChild(docLink);\n",
              "        }\n",
              "      </script>\n",
              "    </div>\n",
              "  </div>\n",
              "  "
            ]
          },
          "metadata": {},
          "execution_count": 41
        }
      ],
      "source": [
        "#All masked texts has been removed\n",
        "df_clean"
      ]
    },
    {
      "cell_type": "markdown",
      "metadata": {
        "id": "k-I0k0QtJrGA"
      },
      "source": [
        "## Feature Extraction\n",
        "Convert the raw texts to a matrix of TF-IDF features\n",
        "\n",
        "**max_df** is used for removing terms that appear too frequently, also known as \"corpus-specific stop words\"\n",
        "max_df = 0.95 means \"ignore terms that appear in more than 95% of the complaints\"\n",
        "\n",
        "**min_df** is used for removing terms that appear too infrequently\n",
        "min_df = 2 means \"ignore terms that appear in less than 2 complaints\""
      ]
    },
    {
      "cell_type": "code",
      "execution_count": null,
      "metadata": {
        "id": "Y8fGwaCPJrGA"
      },
      "outputs": [],
      "source": [
        "#Write your code here to initialise the TfidfVectorizer \n",
        "\n"
      ]
    },
    {
      "cell_type": "markdown",
      "metadata": {
        "id": "yYzD85nTJrGA"
      },
      "source": [
        "#### Create a document term matrix using fit_transform\n",
        "\n",
        "The contents of a document term matrix are tuples of (complaint_id,token_id) tf-idf score:\n",
        "The tuples that are not there have a tf-idf score of 0"
      ]
    },
    {
      "cell_type": "code",
      "execution_count": null,
      "metadata": {
        "id": "ffzdDpp_JrGB"
      },
      "outputs": [],
      "source": [
        "#Write your code here to create the Document Term Matrix by transforming the complaints column present in df_clean.\n"
      ]
    },
    {
      "cell_type": "markdown",
      "metadata": {
        "id": "7Q9lwvNEJrGB"
      },
      "source": [
        "## Topic Modelling using NMF\n",
        "\n",
        "Non-Negative Matrix Factorization (NMF) is an unsupervised technique so there are no labeling of topics that the model will be trained on. The way it works is that, NMF decomposes (or factorizes) high-dimensional vectors into a lower-dimensional representation. These lower-dimensional vectors are non-negative which also means their coefficients are non-negative.\n",
        "\n",
        "In this task you have to perform the following:\n",
        "\n",
        "* Find the best number of clusters \n",
        "* Apply the best number to create word clusters\n",
        "* Inspect & validate the correction of each cluster wrt the complaints \n",
        "* Correct the labels if needed \n",
        "* Map the clusters to topics/cluster names"
      ]
    },
    {
      "cell_type": "code",
      "execution_count": null,
      "metadata": {
        "id": "amLT4omWJrGB"
      },
      "outputs": [],
      "source": [
        "from sklearn.decomposition import NMF"
      ]
    },
    {
      "cell_type": "markdown",
      "metadata": {
        "id": "0wYR1xUTJrGD"
      },
      "source": [
        "## Manual Topic Modeling\n",
        "You need to do take the trial & error approach to find the best num of topics for your NMF model.\n",
        "\n",
        "The only parameter that is required is the number of components i.e. the number of topics we want. This is the most crucial step in the whole topic modeling process and will greatly affect how good your final topics are."
      ]
    },
    {
      "cell_type": "code",
      "execution_count": null,
      "metadata": {
        "id": "sgd2A6bhJrGD"
      },
      "outputs": [],
      "source": [
        "#Load your nmf_model with the n_components i.e 5\n",
        "num_topics = #write the value you want to test out\n",
        "\n",
        "#keep the random_state =40\n",
        "nmf_model = #write your code here"
      ]
    },
    {
      "cell_type": "code",
      "execution_count": null,
      "metadata": {
        "id": "VPMDYbt_JrGE"
      },
      "outputs": [],
      "source": [
        "nmf_model.fit(dtm)\n",
        "len(tfidf.get_feature_names())"
      ]
    },
    {
      "cell_type": "code",
      "execution_count": null,
      "metadata": {
        "id": "16kRfat5JrGE"
      },
      "outputs": [],
      "source": [
        "#Print the Top15 words for each of the topics\n"
      ]
    },
    {
      "cell_type": "code",
      "execution_count": null,
      "metadata": {
        "id": "0OIT7LmFJrGF"
      },
      "outputs": [],
      "source": [
        "#Create the best topic for each complaint in terms of integer value 0,1,2,3 & 4\n",
        "\n"
      ]
    },
    {
      "cell_type": "code",
      "execution_count": null,
      "metadata": {
        "id": "peyYv-ORJrGF"
      },
      "outputs": [],
      "source": [
        "#Assign the best topic to each of the cmplaints in Topic Column\n",
        "\n",
        "df_clean['Topic'] = #write your code to assign topics to each rows."
      ]
    },
    {
      "cell_type": "code",
      "execution_count": null,
      "metadata": {
        "id": "fLh_Gf3nJrGF"
      },
      "outputs": [],
      "source": [
        "df_clean.head()"
      ]
    },
    {
      "cell_type": "code",
      "execution_count": null,
      "metadata": {
        "id": "aQKpufSPJrGG"
      },
      "outputs": [],
      "source": [
        "#Print the first 5 Complaint for each of the Topics\n",
        "df_clean=df_clean.groupby('Topic').head(5)\n",
        "df_clean.sort_values('Topic')"
      ]
    },
    {
      "cell_type": "markdown",
      "metadata": {
        "id": "piyLxzj6v07j"
      },
      "source": [
        "#### After evaluating the mapping, if the topics assigned are correct then assign these names to the relevant topic:\n",
        "* Bank Account services\n",
        "* Credit card or prepaid card\n",
        "* Theft/Dispute Reporting\n",
        "* Mortgage/Loan\n",
        "* Others"
      ]
    },
    {
      "cell_type": "code",
      "execution_count": null,
      "metadata": {
        "id": "TWpwDG4RJrGG"
      },
      "outputs": [],
      "source": [
        "#Create the dictionary of Topic names and Topics\n",
        "\n",
        "Topic_names = {   }\n",
        "#Replace Topics with Topic Names\n",
        "df_clean['Topic'] = df_clean['Topic'].map(Topic_names)"
      ]
    },
    {
      "cell_type": "code",
      "execution_count": null,
      "metadata": {
        "id": "-2ULY5K6JrGG"
      },
      "outputs": [],
      "source": [
        "df_clean"
      ]
    },
    {
      "cell_type": "markdown",
      "metadata": {
        "id": "7Mu0QBOcJrGH"
      },
      "source": [
        "## Supervised model to predict any new complaints to the relevant Topics.\n",
        "\n",
        "You have now build the model to create the topics for each complaints.Now in the below section you will use them to classify any new complaints.\n",
        "\n",
        "Since you will be using supervised learning technique we have to convert the topic names to numbers(numpy arrays only understand numbers)"
      ]
    },
    {
      "cell_type": "code",
      "execution_count": null,
      "metadata": {
        "id": "_U8J3J8wJrGH"
      },
      "outputs": [],
      "source": [
        "#Create the dictionary again of Topic names and Topics\n",
        "\n",
        "Topic_names = {   }\n",
        "#Replace Topics with Topic Names\n",
        "df_clean['Topic'] = df_clean['Topic'].map(Topic_names)"
      ]
    },
    {
      "cell_type": "code",
      "execution_count": null,
      "metadata": {
        "id": "BWIgJUkQJrGH"
      },
      "outputs": [],
      "source": [
        "df_clean"
      ]
    },
    {
      "cell_type": "code",
      "execution_count": null,
      "metadata": {
        "id": "Xx-FrbkWJrGH"
      },
      "outputs": [],
      "source": [
        "#Keep the columns\"complaint_what_happened\" & \"Topic\" only in the new dataframe --> training_data\n",
        "training_data="
      ]
    },
    {
      "cell_type": "code",
      "execution_count": null,
      "metadata": {
        "id": "lVg2pa12JrGI"
      },
      "outputs": [],
      "source": [
        "training_data"
      ]
    },
    {
      "cell_type": "markdown",
      "metadata": {
        "id": "280Vbqk-7a8M"
      },
      "source": [
        "####Apply the supervised models on the training data created. In this process, you have to do the following:\n",
        "* Create the vector counts using Count Vectoriser\n",
        "* Transform the word vecotr to tf-idf\n",
        "* Create the train & test data using the train_test_split on the tf-idf & topics\n"
      ]
    },
    {
      "cell_type": "code",
      "execution_count": null,
      "metadata": {
        "id": "oUlQpgkzJrGI"
      },
      "outputs": [],
      "source": [
        "\n",
        "#Write your code to get the Vector count\n",
        "\n",
        "\n",
        "#Write your code here to transform the word vector to tf-idf"
      ]
    },
    {
      "cell_type": "markdown",
      "metadata": {
        "id": "uMU3vj6w-wqL"
      },
      "source": [
        "You have to try atleast 3 models on the train & test data from these options:\n",
        "* Logistic regression\n",
        "* Decision Tree\n",
        "* Random Forest\n",
        "* Naive Bayes (optional)\n",
        "\n",
        "**Using the required evaluation metrics judge the tried models and select the ones performing the best**"
      ]
    },
    {
      "cell_type": "code",
      "execution_count": null,
      "metadata": {
        "id": "udLHpPsZJrGI"
      },
      "outputs": [],
      "source": [
        "# Write your code here to build any 3 models and evaluate them using the required metrics\n",
        "\n",
        "\n",
        "\n"
      ]
    },
    {
      "cell_type": "code",
      "execution_count": null,
      "metadata": {
        "id": "N2OznsObJrGP"
      },
      "outputs": [],
      "source": []
    }
  ],
  "metadata": {
    "colab": {
      "collapsed_sections": [
        "yYzD85nTJrGA",
        "piyLxzj6v07j",
        "280Vbqk-7a8M"
      ],
      "provenance": [],
      "include_colab_link": true
    },
    "kernelspec": {
      "display_name": "Python 3 (ipykernel)",
      "language": "python",
      "name": "python3"
    },
    "language_info": {
      "codemirror_mode": {
        "name": "ipython",
        "version": 3
      },
      "file_extension": ".py",
      "mimetype": "text/x-python",
      "name": "python",
      "nbconvert_exporter": "python",
      "pygments_lexer": "ipython3",
      "version": "3.9.7"
    },
    "accelerator": "GPU",
    "gpuClass": "standard"
  },
  "nbformat": 4,
  "nbformat_minor": 0
}